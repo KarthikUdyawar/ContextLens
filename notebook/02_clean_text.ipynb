{
 "cells": [
  {
   "cell_type": "markdown",
   "metadata": {},
   "source": [
    "# Text Data Preprocessing Notebook 📝\n",
    "\n",
    "## Introduction 🚀\n",
    "\n",
    "Welcome to the \"Text Data Preprocessing\" notebook (02_clean_text) 📊. In this notebook, we will focus on the essential steps of text data preprocessing. Text data often requires various transformations to make it suitable for analysis and modeling. We'll perform tasks such as handling HTML entities, removing special characters, converting emojis, and more to prepare our text data for further analysis.\n",
    "\n",
    "## Table of Contents 📑\n",
    "\n",
    "- [Importing Libraries](#importing-libraries)\n",
    "- [Loading Data](#loading-data)\n",
    "- [Loading Preprocessing Resources](#loading-preprocessing-resources)\n",
    "- [Text Preprocessing](#text-preprocessing)\n",
    "- [Sample Data Transformation](#sample-data-transformation)\n",
    "- [Full Dataset Processing](#full-dataset-processing)\n",
    "\n",
    "## Importing Libraries 📚\n",
    "\n",
    "Let's start by importing the necessary libraries for our text preprocessing tasks."
   ]
  },
  {
   "cell_type": "code",
   "execution_count": 1,
   "metadata": {},
   "outputs": [],
   "source": [
    "import html\n",
    "import re\n",
    "\n",
    "import emoji\n",
    "import pandas as pd\n",
    "from tqdm import tqdm"
   ]
  },
  {
   "cell_type": "markdown",
   "metadata": {},
   "source": [
    "## Loading Data 📊\n",
    "We will load the text data from a parquet file for preprocessing."
   ]
  },
  {
   "cell_type": "code",
   "execution_count": 2,
   "metadata": {},
   "outputs": [
    {
     "data": {
      "text/html": [
       "<div>\n",
       "<style scoped>\n",
       "    .dataframe tbody tr th:only-of-type {\n",
       "        vertical-align: middle;\n",
       "    }\n",
       "\n",
       "    .dataframe tbody tr th {\n",
       "        vertical-align: top;\n",
       "    }\n",
       "\n",
       "    .dataframe thead th {\n",
       "        text-align: right;\n",
       "    }\n",
       "</style>\n",
       "<table border=\"1\" class=\"dataframe\">\n",
       "  <thead>\n",
       "    <tr style=\"text-align: right;\">\n",
       "      <th></th>\n",
       "      <th>text</th>\n",
       "    </tr>\n",
       "  </thead>\n",
       "  <tbody>\n",
       "    <tr>\n",
       "      <th>0</th>\n",
       "      <td>family mormon have never tried explain them they still stare puzzled from time time like some kind strange creature nonetheless they have come admire for the patience calmness equanimity acceptance and compassion have developed all the things buddhism teaches</td>\n",
       "    </tr>\n",
       "    <tr>\n",
       "      <th>1</th>\n",
       "      <td>buddhism has very much lot compatible with christianity especially considering that sin and suffering are almost the same thing suffering caused wanting things shouldn want going about getting things the wrong way christian this would mean wanting things that don coincide with god will and wanting things that coincide but without the aid jesus buddhism could also seen proof god all mighty will and omnipotence certainly christians are lucky have one such christ there side but what about everyone else well many christians believe god grace salvation and buddhism god way showing grace upon others would also help study the things jesus said and see how buddha has made similar claims such rich man getting into heaven joke basically advocating that should rid ourselves material possessions fact distinctly remembered jesus making someone cry because that someone asked what achieve salvation and jesus replied with live like buddhist very very roughly translated also point out that buddha rarely spoke anything about god theory personally because knew well enough leave that jesus and mohamed who came later just remember conflict difference opinion but education can fun involving and enlightening easier teach something than prove right like intelligent design</td>\n",
       "    </tr>\n",
       "    <tr>\n",
       "      <th>2</th>\n",
       "      <td>seriously don say thing first all they won get its too complex explain normal people anyway and they are dogmatic then doesn matter what you say see mechante post and for any reason you decide later life move from buddhism and that doesn suit you identity though you still get keep all the wisdom then your family will treat you like you went through weird hippy phase for while there didncha and you never hear the end pro tip don put one these your wall jpg</td>\n",
       "    </tr>\n",
       "    <tr>\n",
       "      <th>3</th>\n",
       "      <td>what you have learned yours and only yours what you want teach different focus the goal not the wrapping paper buddhism can passed others without word about the buddha</td>\n",
       "    </tr>\n",
       "    <tr>\n",
       "      <th>4</th>\n",
       "      <td>for your own benefit you may want read living buddha living christ thich nhat hanh you might find any subsequent discussions with your loved ones easier you are able articulate some the parallels that exist between buddhism and christianity don surprised they react negatively for having lost you treat them with compassion and deserved understanding although they may indeed display signs being hurt your new path properly sharing with them way that may alleviate their fear something they may perceive wrong the very least alien their beliefs may help allowing them the long run accept although not necessarily agree with your decision regardless where they end you have make your own way</td>\n",
       "    </tr>\n",
       "  </tbody>\n",
       "</table>\n",
       "</div>"
      ],
      "text/plain": [
       "                                                                                                                                                                                                                                                                                                                                                                                                                                                                                                                                                                                                                                                                                                                                                                                                                                                                                                                                                                                                                                                                                                                                                                                                                                                                                                                    text\n",
       "0                                                                                                                                                                                                                                                                                                                                                                                                                                                                                                                                                                                                                                                                                                                                                                                                                                                                                                                                                                                                                                                   family mormon have never tried explain them they still stare puzzled from time time like some kind strange creature nonetheless they have come admire for the patience calmness equanimity acceptance and compassion have developed all the things buddhism teaches \n",
       "1  buddhism has very much lot compatible with christianity especially considering that sin and suffering are almost the same thing suffering caused wanting things shouldn want going about getting things the wrong way christian this would mean wanting things that don coincide with god will and wanting things that coincide but without the aid jesus buddhism could also seen proof god all mighty will and omnipotence certainly christians are lucky have one such christ there side but what about everyone else well many christians believe god grace salvation and buddhism god way showing grace upon others would also help study the things jesus said and see how buddha has made similar claims such rich man getting into heaven joke basically advocating that should rid ourselves material possessions fact distinctly remembered jesus making someone cry because that someone asked what achieve salvation and jesus replied with live like buddhist very very roughly translated also point out that buddha rarely spoke anything about god theory personally because knew well enough leave that jesus and mohamed who came later just remember conflict difference opinion but education can fun involving and enlightening easier teach something than prove right like intelligent design \n",
       "2                                                                                                                                                                                                                                                                                                                                                                                                                                                                                                                                                                                                                                                                                                                                                                                                                                           seriously don say thing first all they won get its too complex explain normal people anyway and they are dogmatic then doesn matter what you say see mechante post and for any reason you decide later life move from buddhism and that doesn suit you identity though you still get keep all the wisdom then your family will treat you like you went through weird hippy phase for while there didncha and you never hear the end pro tip don put one these your wall jpg \n",
       "3                                                                                                                                                                                                                                                                                                                                                                                                                                                                                                                                                                                                                                                                                                                                                                                                                                                                                                                                                                                                                                                                                                                                               what you have learned yours and only yours what you want teach different focus the goal not the wrapping paper buddhism can passed others without word about the buddha \n",
       "4                                                                                                                                                                                                                                                                                                                                                                                                                                                                                                                                                                                                    for your own benefit you may want read living buddha living christ thich nhat hanh you might find any subsequent discussions with your loved ones easier you are able articulate some the parallels that exist between buddhism and christianity don surprised they react negatively for having lost you treat them with compassion and deserved understanding although they may indeed display signs being hurt your new path properly sharing with them way that may alleviate their fear something they may perceive wrong the very least alien their beliefs may help allowing them the long run accept although not necessarily agree with your decision regardless where they end you have make your own way "
      ]
     },
     "execution_count": 2,
     "metadata": {},
     "output_type": "execute_result"
    }
   ],
   "source": [
    "tqdm.pandas()\n",
    "pd.set_option('display.max_colwidth', None)\n",
    "\n",
    "parquet_file_path = './../data/Text_dataset.br'\n",
    "df = pd.read_parquet(parquet_file_path, engine='pyarrow')\n",
    "df.head()"
   ]
  },
  {
   "cell_type": "markdown",
   "metadata": {},
   "source": [
    "## Loading Preprocessing Resources 📚\n",
    "We will load resources such as dictionaries for handling abbreviations, apostrophes, and emoticons."
   ]
  },
  {
   "cell_type": "code",
   "execution_count": 3,
   "metadata": {},
   "outputs": [],
   "source": [
    "abbreviations_df = pd.read_csv(\"./../data/Text-Preprocessing-Data/abbreviations.csv\") \n",
    "apostrophe_df = pd.read_csv(\"./../data/Text-Preprocessing-Data/apostrophe.csv\")\n",
    "emoticons_df = pd.read_csv(\"./../data/Text-Preprocessing-Data/emoticons.csv\")\n",
    "\n",
    "# Create dictionaries from the loaded resources\n",
    "abbreviations_dict = dict(abbreviations_df.values)\n",
    "apostrophe_dict = dict(apostrophe_df.values)\n",
    "emoticons_dict = dict(emoticons_df.values)"
   ]
  },
  {
   "cell_type": "markdown",
   "metadata": {},
   "source": [
    "## Text Preprocessing 🧹\n",
    "\n",
    "We'll perform various text preprocessing steps, including handling HTML entities, removing mentions, links, emojis, and more."
   ]
  },
  {
   "cell_type": "code",
   "execution_count": 4,
   "metadata": {},
   "outputs": [],
   "source": [
    "def lookup_dict(text: str, dictionary: dict) -> str:\n",
    "    \"\"\"\n",
    "    Replace placeholders in the text with values from a dictionary.\n",
    "\n",
    "    Args:\n",
    "        text (str): The text containing placeholders to be replaced.\n",
    "        dictionary (dict): A dictionary containing placeholder-value pairs.\n",
    "\n",
    "    Returns:\n",
    "        str: The text with placeholders replaced by their corresponding values.\n",
    "    \"\"\"\n",
    "    for word in text.split():\n",
    "        if word in dictionary:\n",
    "            text = text.replace(word, dictionary[word])\n",
    "    return text"
   ]
  },
  {
   "cell_type": "code",
   "execution_count": 5,
   "metadata": {},
   "outputs": [],
   "source": [
    "def preprocessing(input_text: str) -> str:\n",
    "    \"\"\"Preprocess the input text for natural language processing.\n",
    "\n",
    "    Args:\n",
    "        input_text (str): The input text to be preprocessed.\n",
    "\n",
    "    Returns:\n",
    "        str: The preprocessed text.\n",
    "    \"\"\"\n",
    "    # Step A : Converting html entities i.e. (&lt; &gt; &amp;)\n",
    "    text = html.unescape(input_text)\n",
    "    # Step B : Removing \"@user\" from all the text\n",
    "    text = re.sub(\"@[\\w]*\", \"\", text)\n",
    "    # Step C : Remove http & https links\n",
    "    text = re.sub(\"http://\\S+|https://\\S+\", \"\", text)\n",
    "    # Step D : Emoticon Lookup\n",
    "    text = lookup_dict(text, emoticons_dict)\n",
    "    # Step E : Emoji Lookup\n",
    "    text = emoji.demojize(text)\n",
    "    # Step F : Changing all the text into lowercase\n",
    "    text = text.lower()\n",
    "    # Step G : Apostrophe Lookup\n",
    "    text = lookup_dict(text, apostrophe_dict)\n",
    "    # Step H : Short Word Lookup\n",
    "    text = lookup_dict(text, abbreviations_dict)\n",
    "    # Step I : Replacing Punctuations, Special Characters & Numbers (integers) with space\n",
    "    text = re.sub(r\"[^a-z]\", \" \", text)\n",
    "    # Step J: Remove whitespace\n",
    "    text = re.sub(r\"\\s+\", \" \", text)\n",
    "    return text"
   ]
  },
  {
   "cell_type": "markdown",
   "metadata": {},
   "source": [
    "## Sample Data Transformation 📄\n",
    "\n",
    "Let's apply the text preprocessing functions to a sample of the dataset to see the results."
   ]
  },
  {
   "cell_type": "code",
   "execution_count": 6,
   "metadata": {},
   "outputs": [
    {
     "name": "stderr",
     "output_type": "stream",
     "text": [
      "100%|██████████| 20/20 [00:00<00:00, 666.49it/s]\n"
     ]
    },
    {
     "data": {
      "text/html": [
       "<div>\n",
       "<style scoped>\n",
       "    .dataframe tbody tr th:only-of-type {\n",
       "        vertical-align: middle;\n",
       "    }\n",
       "\n",
       "    .dataframe tbody tr th {\n",
       "        vertical-align: top;\n",
       "    }\n",
       "\n",
       "    .dataframe thead th {\n",
       "        text-align: right;\n",
       "    }\n",
       "</style>\n",
       "<table border=\"1\" class=\"dataframe\">\n",
       "  <thead>\n",
       "    <tr style=\"text-align: right;\">\n",
       "      <th></th>\n",
       "      <th>text</th>\n",
       "      <th>clear_text</th>\n",
       "    </tr>\n",
       "  </thead>\n",
       "  <tbody>\n",
       "    <tr>\n",
       "      <th>69005</th>\n",
       "      <td>I had watched this as a kid but, not being much of a Jerry Lewis fan, I had completely forgotten it (not that it's in any way memorable). The film revolves around impersonation (which seems to be in the curriculum of every comic star!) - in this case a German officer - and, while not as bad as Leonard Maltin claims (awarding it a BOMB rating), it's not exactly classic stuff either - certainly leagues behind Chaplin's THE GREAT DICTATOR (1940), even if comparably narcissistic! Ironically, the scenes prior to the appearance of the would-be wacky General offer more felicities than the rather forced humor at Nazi expense! &lt;br /&gt;&lt;br /&gt;The film was really Lewis' last gasp during his heyday; in fact, this proved to be his last vehicle to be released for 10 years (it's painfully apparent here that his particular brand of foolishness wouldn't pass muster in the age of Mel Brooks and Woody Allen)!</td>\n",
       "      <td>i had watched this as a kid but not being much of a jerry lewis fan i had completely forgotten it not that it is in any where are you memorable the film revolves around impersonation which seems to be in the curriculum of every comic star in this case a german officer and while not as bad as leonard maltin claims awarding it a bomb rating it is not exactly classic stuff either certainly leagues behind chaplin s the great dictator even if comparably narcissistic ironically the scenes prior to the appearance of the would be wacky general offer more felicities than the rather forced humor at nazi expense br br the film was really lewis last gasp during his heyday in fact this proved to be his last vehicle to be released for years it is painfully apparent here that his particular brand of foolishness would not pass muster in the age of mel brooks and woody allen</td>\n",
       "    </tr>\n",
       "    <tr>\n",
       "      <th>1131240</th>\n",
       "      <td>@BlockFi Sorry I had to remove funds due to the poor communication recently and market turmoil. When will BIA be available for American clients? Any updates on that please?</td>\n",
       "      <td>sorry i had to remove funds due to the poor communication recently and market turmoil when will bia be available for american clients any updates on that please</td>\n",
       "    </tr>\n",
       "    <tr>\n",
       "      <th>1111502</th>\n",
       "      <td>@GreaseMonkey42 @SharonGF_NBCT @RepMTG Sometimes I feel like they are lost souls. They believe everything the LameStream Media tells them. Wait for the laws to come into effect that will allow us to sue LameStream Media when they don’t tell the truth! Then their eyes will start opening I hope!</td>\n",
       "      <td>sometimes i feel like they are lost souls they believe everything the lamestream media tells them wait for the laws to come into effect that will allow us to sue lamestream media when they don t tell the truth then their eyes will start opening i hope</td>\n",
       "    </tr>\n",
       "    <tr>\n",
       "      <th>705407</th>\n",
       "      <td>@leeandrew31 @Dane99_ I didn't think we would match last years total either, looks like we might now</td>\n",
       "      <td>i did not think whatever would match last years total either looks like whatever might now</td>\n",
       "    </tr>\n",
       "    <tr>\n",
       "      <th>718767</th>\n",
       "      <td>@Assade_Cule @Adaminho_FCB Ça ne répond tjs pas à ma question.</td>\n",
       "      <td>a ne r pond tjs pas mom alert master of arts question</td>\n",
       "    </tr>\n",
       "    <tr>\n",
       "      <th>765311</th>\n",
       "      <td>@AstrosFan86 🤣🤣🤣🤣 best SS in Astros history Carlos Correa El Capitan #1</td>\n",
       "      <td>rolling on the floor laughing rolling on the floor laughing rolling on the floor laughing rolling on the floor laughing best screen shot in astros history carlos correa el capitan</td>\n",
       "    </tr>\n",
       "    <tr>\n",
       "      <th>206011</th>\n",
       "      <td>modi work 365 days for country but every election time rahul yuvoraj priyanka gandhi yuvrani goes poor house eat temple and take photo after finish vote they back italy other country for long vacation they come just for vote</td>\n",
       "      <td>modi work days for country but every election time rahul yuvoraj priyanka gandhi yuvrani goes poor house eat temple and take photo after finish vote they back i trust and love you other country for long vacation they come just for vote</td>\n",
       "    </tr>\n",
       "    <tr>\n",
       "      <th>25842</th>\n",
       "      <td>most def not paying for her bundle farm</td>\n",
       "      <td>most def not paying for her bundle farm</td>\n",
       "    </tr>\n",
       "    <tr>\n",
       "      <th>1106588</th>\n",
       "      <td>@just23things @nctzenbase Skincare dream juga ada kan? S0methinc</td>\n",
       "      <td>skincare dream juga ada kan s methinc</td>\n",
       "    </tr>\n",
       "    <tr>\n",
       "      <th>925672</th>\n",
       "      <td>@TnDawg34 @ironminja @OriginalRoddick @JAWestman If you DO genuinely want to reduce abortions. Do 3 things: increase access to contraception, improve financial situation of many women especially in cities, provide adequate housing prices and maternity/paternity leave so they can raise a child. Banning it fixes non of these</td>\n",
       "      <td>if you do genuinely want to reduce abortions do things increase access to contraception improve financial situation of many women especially in cities provide adequate housing prices and maternity paternity leave so they can raise a child banning it fixes non of these</td>\n",
       "    </tr>\n",
       "    <tr>\n",
       "      <th>562950</th>\n",
       "      <td>@king_goomba Will we ever see Xenogears Perfect Works?</td>\n",
       "      <td>will whatever ever see xenogears perfect works</td>\n",
       "    </tr>\n",
       "    <tr>\n",
       "      <th>1124203</th>\n",
       "      <td>@HollandGreig @ShutupToshi9227 You are equating the granting of autonomy by law, with the removal of automony by law.\\nDo you not see the hiprocacy you advocate for in the name of \"Imposing ones beliefs on society\"?</td>\n",
       "      <td>you are equating the granting of autonomy by law with the removal of automony by law do you not see the hiprocacy you advocate for in the name of imposing ones beliefs on society</td>\n",
       "    </tr>\n",
       "    <tr>\n",
       "      <th>833355</th>\n",
       "      <td>@AimeeTomato @jjaquee2 Babies should have access to baby formula in Biden’s broken economy. Kids should have access to the choice of school that suits their learning need. Kids shouldn’t be coerced by adults into cutting off pieces of their body and taking pills.\\n\\nThis is us giving a fcvk about babies.</td>\n",
       "      <td>babies should have access to baby formula in biden s broken economy kids should have access to the choice of school that suits their learning need kids shouldn t be coerced by adults into cutting off pieces of their body and taking pills this is us giving a fcvk about babies</td>\n",
       "    </tr>\n",
       "    <tr>\n",
       "      <th>360248</th>\n",
       "      <td>Saints “Dome Patrol” voted the best LBer crew ever by NFL Network yrs ago. I was on the staffs that coached 2 of them in college-Mills at Montclair and Swilling at GT, so unless somebody coached 3, that made me the best college Lber coach ever!👍😎🏈 https://t.co/zLc5v9fIoE</td>\n",
       "      <td>saints dome patrol voted the best lber crew ever by national football league network yrs ago i was on the staffs that coached of them in college mills at montclair and swilling at gt so unless somebody coached that made me the best college lber coach ever thumbs up smiling face with sunglasses american football</td>\n",
       "    </tr>\n",
       "    <tr>\n",
       "      <th>223652</th>\n",
       "      <td>who knows perhaps modi has saved his trump card for the time when his card also fails like cow</td>\n",
       "      <td>who knows perhaps modi has saved his trump card for the time when his card also fails like cow</td>\n",
       "    </tr>\n",
       "    <tr>\n",
       "      <th>115832</th>\n",
       "      <td>sir more than sir with modi</td>\n",
       "      <td>sir more than sir with modi</td>\n",
       "    </tr>\n",
       "    <tr>\n",
       "      <th>491987</th>\n",
       "      <td>You are so out of line that even geometry is laughing 😅\\nHeard this somewhere today!</td>\n",
       "      <td>you are so out of line that even geometry is laughing grinning face with sweat heard this somewhere today</td>\n",
       "    </tr>\n",
       "    <tr>\n",
       "      <th>111567</th>\n",
       "      <td>wait for next tenure narendra modi govt will this job such robust way that your friends politics would not like</td>\n",
       "      <td>wait for next tenure narendra modi govt will this job such robust where are you that your friends politics would not like</td>\n",
       "    </tr>\n",
       "    <tr>\n",
       "      <th>773128</th>\n",
       "      <td>@KellanOlson If you don’t think leake,kelly,ray,young are quality pitchers for the #3-5 spots, maybe you need to lower your expectations a bit</td>\n",
       "      <td>if you don t think leake kelly ray young are quality pitchers for the spots maybe you need to lower your expectations a bit</td>\n",
       "    </tr>\n",
       "    <tr>\n",
       "      <th>241101</th>\n",
       "      <td>modi warns against fake promises made opposition parties\\nrs15 lakh each indian citizen will deposited was this fake promise</td>\n",
       "      <td>modi warns against fake promises made opposition parties rs lakh each indian citizen will deposited was this fake promise</td>\n",
       "    </tr>\n",
       "  </tbody>\n",
       "</table>\n",
       "</div>"
      ],
      "text/plain": [
       "                                                                                                                                                                                                                                                                                                                                                                                                                                                                                                                                                                                                                                                                                                                                                                                                                                                                                                                                         text  \\\n",
       "69005    I had watched this as a kid but, not being much of a Jerry Lewis fan, I had completely forgotten it (not that it's in any way memorable). The film revolves around impersonation (which seems to be in the curriculum of every comic star!) - in this case a German officer - and, while not as bad as Leonard Maltin claims (awarding it a BOMB rating), it's not exactly classic stuff either - certainly leagues behind Chaplin's THE GREAT DICTATOR (1940), even if comparably narcissistic! Ironically, the scenes prior to the appearance of the would-be wacky General offer more felicities than the rather forced humor at Nazi expense! <br /><br />The film was really Lewis' last gasp during his heyday; in fact, this proved to be his last vehicle to be released for 10 years (it's painfully apparent here that his particular brand of foolishness wouldn't pass muster in the age of Mel Brooks and Woody Allen)!   \n",
       "1131240                                                                                                                                                                                                                                                                                                                                                                                                                                                                                                                                                                                                                                                                                                                                                          @BlockFi Sorry I had to remove funds due to the poor communication recently and market turmoil. When will BIA be available for American clients? Any updates on that please?   \n",
       "1111502                                                                                                                                                                                                                                                                                                                                                                                                                                                                                                                                                                                                                                @GreaseMonkey42 @SharonGF_NBCT @RepMTG Sometimes I feel like they are lost souls. They believe everything the LameStream Media tells them. Wait for the laws to come into effect that will allow us to sue LameStream Media when they don’t tell the truth! Then their eyes will start opening I hope!   \n",
       "705407                                                                                                                                                                                                                                                                                                                                                                                                                                                                                                                                                                                                                                                                                                                                                                                                                                   @leeandrew31 @Dane99_ I didn't think we would match last years total either, looks like we might now   \n",
       "718767                                                                                                                                                                                                                                                                                                                                                                                                                                                                                                                                                                                                                                                                                                                                                                                                                                                                         @Assade_Cule @Adaminho_FCB Ça ne répond tjs pas à ma question.   \n",
       "765311                                                                                                                                                                                                                                                                                                                                                                                                                                                                                                                                                                                                                                                                                                                                                                                                                                                                @AstrosFan86 🤣🤣🤣🤣 best SS in Astros history Carlos Correa El Capitan #1   \n",
       "206011                                                                                                                                                                                                                                                                                                                                                                                                                                                                                                                                                                                                                                                                                                       modi work 365 days for country but every election time rahul yuvoraj priyanka gandhi yuvrani goes poor house eat temple and take photo after finish vote they back italy other country for long vacation they come just for vote   \n",
       "25842                                                                                                                                                                                                                                                                                                                                                                                                                                                                                                                                                                                                                                                                                                                                                                                                                                                                                                most def not paying for her bundle farm    \n",
       "1106588                                                                                                                                                                                                                                                                                                                                                                                                                                                                                                                                                                                                                                                                                                                                                                                                                                                                      @just23things @nctzenbase Skincare dream juga ada kan? S0methinc   \n",
       "925672                                                                                                                                                                                                                                                                                                                                                                                                                                                                                                                                                                                                   @TnDawg34 @ironminja @OriginalRoddick @JAWestman If you DO genuinely want to reduce abortions. Do 3 things: increase access to contraception, improve financial situation of many women especially in cities, provide adequate housing prices and maternity/paternity leave so they can raise a child. Banning it fixes non of these   \n",
       "562950                                                                                                                                                                                                                                                                                                                                                                                                                                                                                                                                                                                                                                                                                                                                                                                                                                                                                 @king_goomba Will we ever see Xenogears Perfect Works?   \n",
       "1124203                                                                                                                                                                                                                                                                                                                                                                                                                                                                                                                                                                                                                                                                                                               @HollandGreig @ShutupToshi9227 You are equating the granting of autonomy by law, with the removal of automony by law.\\nDo you not see the hiprocacy you advocate for in the name of \"Imposing ones beliefs on society\"?   \n",
       "833355                                                                                                                                                                                                                                                                                                                                                                                                                                                                                                                                                                                                                      @AimeeTomato @jjaquee2 Babies should have access to baby formula in Biden’s broken economy. Kids should have access to the choice of school that suits their learning need. Kids shouldn’t be coerced by adults into cutting off pieces of their body and taking pills.\\n\\nThis is us giving a fcvk about babies.   \n",
       "360248                                                                                                                                                                                                                                                                                                                                                                                                                                                                                                                                                                                                                                                        Saints “Dome Patrol” voted the best LBer crew ever by NFL Network yrs ago. I was on the staffs that coached 2 of them in college-Mills at Montclair and Swilling at GT, so unless somebody coached 3, that made me the best college Lber coach ever!👍😎🏈 https://t.co/zLc5v9fIoE   \n",
       "223652                                                                                                                                                                                                                                                                                                                                                                                                                                                                                                                                                                                                                                                                                                                                                                                                                                        who knows perhaps modi has saved his trump card for the time when his card also fails like cow    \n",
       "115832                                                                                                                                                                                                                                                                                                                                                                                                                                                                                                                                                                                                                                                                                                                                                                                                                                                                                                           sir more than sir with modi    \n",
       "491987                                                                                                                                                                                                                                                                                                                                                                                                                                                                                                                                                                                                                                                                                                                                                                                                                                                   You are so out of line that even geometry is laughing 😅\\nHeard this somewhere today!   \n",
       "111567                                                                                                                                                                                                                                                                                                                                                                                                                                                                                                                                                                                                                                                                                                                                                                                                                        wait for next tenure narendra modi govt will this job such robust way that your friends politics would not like   \n",
       "773128                                                                                                                                                                                                                                                                                                                                                                                                                                                                                                                                                                                                                                                                                                                                                                                         @KellanOlson If you don’t think leake,kelly,ray,young are quality pitchers for the #3-5 spots, maybe you need to lower your expectations a bit   \n",
       "241101                                                                                                                                                                                                                                                                                                                                                                                                                                                                                                                                                                                                                                                                                                                                                                                                           modi warns against fake promises made opposition parties\\nrs15 lakh each indian citizen will deposited was this fake promise   \n",
       "\n",
       "                                                                                                                                                                                                                                                                                                                                                                                                                                                                                                                                                                                                                                                                                                                                                                                                                                                                                                      clear_text  \n",
       "69005    i had watched this as a kid but not being much of a jerry lewis fan i had completely forgotten it not that it is in any where are you memorable the film revolves around impersonation which seems to be in the curriculum of every comic star in this case a german officer and while not as bad as leonard maltin claims awarding it a bomb rating it is not exactly classic stuff either certainly leagues behind chaplin s the great dictator even if comparably narcissistic ironically the scenes prior to the appearance of the would be wacky general offer more felicities than the rather forced humor at nazi expense br br the film was really lewis last gasp during his heyday in fact this proved to be his last vehicle to be released for years it is painfully apparent here that his particular brand of foolishness would not pass muster in the age of mel brooks and woody allen   \n",
       "1131240                                                                                                                                                                                                                                                                                                                                                                                                                                                                                                                                                                                                                                                                                                                                        sorry i had to remove funds due to the poor communication recently and market turmoil when will bia be available for american clients any updates on that please   \n",
       "1111502                                                                                                                                                                                                                                                                                                                                                                                                                                                                                                                                                                                                                                             sometimes i feel like they are lost souls they believe everything the lamestream media tells them wait for the laws to come into effect that will allow us to sue lamestream media when they don t tell the truth then their eyes will start opening i hope   \n",
       "705407                                                                                                                                                                                                                                                                                                                                                                                                                                                                                                                                                                                                                                                                                                                                                                                                                i did not think whatever would match last years total either looks like whatever might now  \n",
       "718767                                                                                                                                                                                                                                                                                                                                                                                                                                                                                                                                                                                                                                                                                                                                                                                                                                                    a ne r pond tjs pas mom alert master of arts question   \n",
       "765311                                                                                                                                                                                                                                                                                                                                                                                                                                                                                                                                                                                                                                                                                                                      rolling on the floor laughing rolling on the floor laughing rolling on the floor laughing rolling on the floor laughing best screen shot in astros history carlos correa el capitan   \n",
       "206011                                                                                                                                                                                                                                                                                                                                                                                                                                                                                                                                                                                                                                                               modi work days for country but every election time rahul yuvoraj priyanka gandhi yuvrani goes poor house eat temple and take photo after finish vote they back i trust and love you other country for long vacation they come just for vote  \n",
       "25842                                                                                                                                                                                                                                                                                                                                                                                                                                                                                                                                                                                                                                                                                                                                                                                                                                                                   most def not paying for her bundle farm   \n",
       "1106588                                                                                                                                                                                                                                                                                                                                                                                                                                                                                                                                                                                                                                                                                                                                                                                                                                                                    skincare dream juga ada kan s methinc  \n",
       "925672                                                                                                                                                                                                                                                                                                                                                                                                                                                                                                                                                                                                                              if you do genuinely want to reduce abortions do things increase access to contraception improve financial situation of many women especially in cities provide adequate housing prices and maternity paternity leave so they can raise a child banning it fixes non of these  \n",
       "562950                                                                                                                                                                                                                                                                                                                                                                                                                                                                                                                                                                                                                                                                                                                                                                                                                                                           will whatever ever see xenogears perfect works   \n",
       "1124203                                                                                                                                                                                                                                                                                                                                                                                                                                                                                                                                                                                                                                                                                                                      you are equating the granting of autonomy by law with the removal of automony by law do you not see the hiprocacy you advocate for in the name of imposing ones beliefs on society   \n",
       "833355                                                                                                                                                                                                                                                                                                                                                                                                                                                                                                                                                                                                                      babies should have access to baby formula in biden s broken economy kids should have access to the choice of school that suits their learning need kids shouldn t be coerced by adults into cutting off pieces of their body and taking pills this is us giving a fcvk about babies   \n",
       "360248                                                                                                                                                                                                                                                                                                                                                                                                                                                                                                                                                                                 saints dome patrol voted the best lber crew ever by national football league network yrs ago i was on the staffs that coached of them in college mills at montclair and swilling at gt so unless somebody coached that made me the best college lber coach ever thumbs up smiling face with sunglasses american football   \n",
       "223652                                                                                                                                                                                                                                                                                                                                                                                                                                                                                                                                                                                                                                                                                                                                                                                                           who knows perhaps modi has saved his trump card for the time when his card also fails like cow   \n",
       "115832                                                                                                                                                                                                                                                                                                                                                                                                                                                                                                                                                                                                                                                                                                                                                                                                                                                                              sir more than sir with modi   \n",
       "491987                                                                                                                                                                                                                                                                                                                                                                                                                                                                                                                                                                                                                                                                                                                                                                                                you are so out of line that even geometry is laughing grinning face with sweat heard this somewhere today   \n",
       "111567                                                                                                                                                                                                                                                                                                                                                                                                                                                                                                                                                                                                                                                                                                                                                                                 wait for next tenure narendra modi govt will this job such robust where are you that your friends politics would not like  \n",
       "773128                                                                                                                                                                                                                                                                                                                                                                                                                                                                                                                                                                                                                                                                                                                                                                               if you don t think leake kelly ray young are quality pitchers for the spots maybe you need to lower your expectations a bit  \n",
       "241101                                                                                                                                                                                                                                                                                                                                                                                                                                                                                                                                                                                                                                                                                                                                                                                 modi warns against fake promises made opposition parties rs lakh each indian citizen will deposited was this fake promise  "
      ]
     },
     "execution_count": 6,
     "metadata": {},
     "output_type": "execute_result"
    }
   ],
   "source": [
    "sample_df = df.sample(20)\n",
    "sample_df['clear_text'] = sample_df['text'].progress_apply(preprocessing)\n",
    "sample_df.head(20)"
   ]
  },
  {
   "cell_type": "markdown",
   "metadata": {},
   "source": [
    "Test text preprocessing on a single example"
   ]
  },
  {
   "cell_type": "code",
   "execution_count": 7,
   "metadata": {},
   "outputs": [
    {
     "name": "stdout",
     "output_type": "stream",
     "text": [
      "preprocessing(test_text)=' jake lloyd especially man poor kid tired face loudly crying face '\n"
     ]
    }
   ],
   "source": [
    "test_text = \"@Dbgtiscanon @SupiotUgo @TheStarWarsAcad Jake lloyd especially man poor kid! 😫😭\"\n",
    "print(f\"{preprocessing(test_text)=}\")"
   ]
  },
  {
   "cell_type": "markdown",
   "metadata": {},
   "source": [
    "## Full Dataset Processing 🚀\n",
    "\n",
    "If you'd like to run this text preprocessing on the full dataset, you can find the code in the [src/utils/clean_text.py](src/utils/clean_text.py) file. Simply execute the script to preprocess the entire dataset.\n",
    "\n",
    "## Conclusion 📝\n",
    "This notebook has covered the crucial steps of text preprocessing, including handling HTML entities, user mentions, links, emoticons, and more. The resulting clean text is now ready for use in various NLP tasks, such as sentiment analysis, topic modeling, or text classification.\n",
    "\n",
    "Happy text preprocessing! 🧼✨"
   ]
  }
 ],
 "metadata": {
  "kernelspec": {
   "display_name": "env",
   "language": "python",
   "name": "python3"
  },
  "language_info": {
   "codemirror_mode": {
    "name": "ipython",
    "version": 3
   },
   "file_extension": ".py",
   "mimetype": "text/x-python",
   "name": "python",
   "nbconvert_exporter": "python",
   "pygments_lexer": "ipython3",
   "version": "3.10.6"
  },
  "orig_nbformat": 4
 },
 "nbformat": 4,
 "nbformat_minor": 2
}
