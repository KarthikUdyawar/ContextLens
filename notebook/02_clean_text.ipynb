{
 "cells": [
  {
   "cell_type": "markdown",
   "metadata": {},
   "source": [
    "# Text Data Preprocessing Notebook 📝\n",
    "\n",
    "## Introduction 🚀\n",
    "\n",
    "Welcome to the \"Text Data Preprocessing\" notebook (02_clean_text) 📊. In this notebook, we will focus on the essential steps of text data preprocessing. Text data often requires various transformations to make it suitable for analysis and modeling. We'll perform tasks such as handling HTML entities, removing special characters, converting emojis, and more to prepare our text data for further analysis.\n",
    "\n",
    "## Table of Contents 📑\n",
    "\n",
    "- [Importing Libraries](#importing-libraries)\n",
    "- [Loading Data](#loading-data)\n",
    "- [Loading Preprocessing Resources](#loading-preprocessing-resources)\n",
    "- [Text Preprocessing](#text-preprocessing)\n",
    "- [Sample Data Transformation](#sample-data-transformation)\n",
    "- [Full Dataset Processing](#full-dataset-processing)\n",
    "\n",
    "## Importing Libraries 📚\n",
    "\n",
    "Let's start by importing the necessary libraries for our text preprocessing tasks."
   ]
  },
  {
   "cell_type": "code",
   "execution_count": 1,
   "metadata": {},
   "outputs": [],
   "source": [
    "import html\n",
    "import re\n",
    "\n",
    "import emoji\n",
    "import pandas as pd\n",
    "from tqdm import tqdm"
   ]
  },
  {
   "cell_type": "markdown",
   "metadata": {},
   "source": [
    "## Loading Data 📊\n",
    "We will load the text data from a parquet file for preprocessing."
   ]
  },
  {
   "cell_type": "code",
   "execution_count": 2,
   "metadata": {},
   "outputs": [
    {
     "data": {
      "text/html": [
       "<div>\n",
       "<style scoped>\n",
       "    .dataframe tbody tr th:only-of-type {\n",
       "        vertical-align: middle;\n",
       "    }\n",
       "\n",
       "    .dataframe tbody tr th {\n",
       "        vertical-align: top;\n",
       "    }\n",
       "\n",
       "    .dataframe thead th {\n",
       "        text-align: right;\n",
       "    }\n",
       "</style>\n",
       "<table border=\"1\" class=\"dataframe\">\n",
       "  <thead>\n",
       "    <tr style=\"text-align: right;\">\n",
       "      <th></th>\n",
       "      <th>text</th>\n",
       "    </tr>\n",
       "  </thead>\n",
       "  <tbody>\n",
       "    <tr>\n",
       "      <th>0</th>\n",
       "      <td>family mormon have never tried explain them they still stare puzzled from time time like some kind strange creature nonetheless they have come admire for the patience calmness equanimity acceptance and compassion have developed all the things buddhism teaches</td>\n",
       "    </tr>\n",
       "    <tr>\n",
       "      <th>1</th>\n",
       "      <td>buddhism has very much lot compatible with christianity especially considering that sin and suffering are almost the same thing suffering caused wanting things shouldn want going about getting things the wrong way christian this would mean wanting things that don coincide with god will and wanting things that coincide but without the aid jesus buddhism could also seen proof god all mighty will and omnipotence certainly christians are lucky have one such christ there side but what about everyone else well many christians believe god grace salvation and buddhism god way showing grace upon others would also help study the things jesus said and see how buddha has made similar claims such rich man getting into heaven joke basically advocating that should rid ourselves material possessions fact distinctly remembered jesus making someone cry because that someone asked what achieve salvation and jesus replied with live like buddhist very very roughly translated also point out that buddha rarely spoke anything about god theory personally because knew well enough leave that jesus and mohamed who came later just remember conflict difference opinion but education can fun involving and enlightening easier teach something than prove right like intelligent design</td>\n",
       "    </tr>\n",
       "    <tr>\n",
       "      <th>2</th>\n",
       "      <td>seriously don say thing first all they won get its too complex explain normal people anyway and they are dogmatic then doesn matter what you say see mechante post and for any reason you decide later life move from buddhism and that doesn suit you identity though you still get keep all the wisdom then your family will treat you like you went through weird hippy phase for while there didncha and you never hear the end pro tip don put one these your wall jpg</td>\n",
       "    </tr>\n",
       "    <tr>\n",
       "      <th>3</th>\n",
       "      <td>what you have learned yours and only yours what you want teach different focus the goal not the wrapping paper buddhism can passed others without word about the buddha</td>\n",
       "    </tr>\n",
       "    <tr>\n",
       "      <th>4</th>\n",
       "      <td>for your own benefit you may want read living buddha living christ thich nhat hanh you might find any subsequent discussions with your loved ones easier you are able articulate some the parallels that exist between buddhism and christianity don surprised they react negatively for having lost you treat them with compassion and deserved understanding although they may indeed display signs being hurt your new path properly sharing with them way that may alleviate their fear something they may perceive wrong the very least alien their beliefs may help allowing them the long run accept although not necessarily agree with your decision regardless where they end you have make your own way</td>\n",
       "    </tr>\n",
       "  </tbody>\n",
       "</table>\n",
       "</div>"
      ],
      "text/plain": [
       "                                                                                                                                                                                                                                                                                                                                                                                                                                                                                                                                                                                                                                                                                                                                                                                                                                                                                                                                                                                                                                                                                                                                                                                                                                                                                                                    text\n",
       "0                                                                                                                                                                                                                                                                                                                                                                                                                                                                                                                                                                                                                                                                                                                                                                                                                                                                                                                                                                                                                                                   family mormon have never tried explain them they still stare puzzled from time time like some kind strange creature nonetheless they have come admire for the patience calmness equanimity acceptance and compassion have developed all the things buddhism teaches \n",
       "1  buddhism has very much lot compatible with christianity especially considering that sin and suffering are almost the same thing suffering caused wanting things shouldn want going about getting things the wrong way christian this would mean wanting things that don coincide with god will and wanting things that coincide but without the aid jesus buddhism could also seen proof god all mighty will and omnipotence certainly christians are lucky have one such christ there side but what about everyone else well many christians believe god grace salvation and buddhism god way showing grace upon others would also help study the things jesus said and see how buddha has made similar claims such rich man getting into heaven joke basically advocating that should rid ourselves material possessions fact distinctly remembered jesus making someone cry because that someone asked what achieve salvation and jesus replied with live like buddhist very very roughly translated also point out that buddha rarely spoke anything about god theory personally because knew well enough leave that jesus and mohamed who came later just remember conflict difference opinion but education can fun involving and enlightening easier teach something than prove right like intelligent design \n",
       "2                                                                                                                                                                                                                                                                                                                                                                                                                                                                                                                                                                                                                                                                                                                                                                                                                                           seriously don say thing first all they won get its too complex explain normal people anyway and they are dogmatic then doesn matter what you say see mechante post and for any reason you decide later life move from buddhism and that doesn suit you identity though you still get keep all the wisdom then your family will treat you like you went through weird hippy phase for while there didncha and you never hear the end pro tip don put one these your wall jpg \n",
       "3                                                                                                                                                                                                                                                                                                                                                                                                                                                                                                                                                                                                                                                                                                                                                                                                                                                                                                                                                                                                                                                                                                                                               what you have learned yours and only yours what you want teach different focus the goal not the wrapping paper buddhism can passed others without word about the buddha \n",
       "4                                                                                                                                                                                                                                                                                                                                                                                                                                                                                                                                                                                                    for your own benefit you may want read living buddha living christ thich nhat hanh you might find any subsequent discussions with your loved ones easier you are able articulate some the parallels that exist between buddhism and christianity don surprised they react negatively for having lost you treat them with compassion and deserved understanding although they may indeed display signs being hurt your new path properly sharing with them way that may alleviate their fear something they may perceive wrong the very least alien their beliefs may help allowing them the long run accept although not necessarily agree with your decision regardless where they end you have make your own way "
      ]
     },
     "execution_count": 2,
     "metadata": {},
     "output_type": "execute_result"
    }
   ],
   "source": [
    "tqdm.pandas()\n",
    "pd.set_option('display.max_colwidth', None)\n",
    "\n",
    "parquet_file_path = './../data/Text_dataset.br'\n",
    "df = pd.read_parquet(parquet_file_path, engine='pyarrow')\n",
    "df.head()"
   ]
  },
  {
   "cell_type": "markdown",
   "metadata": {},
   "source": [
    "## Loading Preprocessing Resources 📚\n",
    "We will load resources such as dictionaries for handling abbreviations, apostrophes, and emoticons."
   ]
  },
  {
   "cell_type": "code",
   "execution_count": 3,
   "metadata": {},
   "outputs": [],
   "source": [
    "abbreviations_df = pd.read_csv(\"./../data/Text-Preprocessing-Data/abbreviations.csv\") \n",
    "apostrophe_df = pd.read_csv(\"./../data/Text-Preprocessing-Data/apostrophe.csv\")\n",
    "emoticons_df = pd.read_csv(\"./../data/Text-Preprocessing-Data/emoticons.csv\")\n",
    "\n",
    "# Create dictionaries from the loaded resources\n",
    "abbreviations_dict = dict(abbreviations_df.values)\n",
    "apostrophe_dict = dict(apostrophe_df.values)\n",
    "emoticons_dict = dict(emoticons_df.values)"
   ]
  },
  {
   "cell_type": "markdown",
   "metadata": {},
   "source": [
    "## Text Preprocessing 🧹\n",
    "\n",
    "We'll perform various text preprocessing steps, including handling HTML entities, removing mentions, links, emojis, and more."
   ]
  },
  {
   "cell_type": "code",
   "execution_count": 4,
   "metadata": {},
   "outputs": [],
   "source": [
    "def lookup_dict(text: str, dictionary: dict) -> str:\n",
    "    \"\"\"\n",
    "    Replace placeholders in the text with values from a dictionary.\n",
    "\n",
    "    Args:\n",
    "        text (str): The text containing placeholders to be replaced.\n",
    "        dictionary (dict): A dictionary containing placeholder-value pairs.\n",
    "\n",
    "    Returns:\n",
    "        str: The text with placeholders replaced by their corresponding values.\n",
    "    \"\"\"\n",
    "    for word in text.split():\n",
    "        if word in dictionary:\n",
    "            text = text.replace(word, dictionary[word])\n",
    "    return text"
   ]
  },
  {
   "cell_type": "code",
   "execution_count": 5,
   "metadata": {},
   "outputs": [],
   "source": [
    "def preprocessing(input_text: str) -> str:\n",
    "    \"\"\"Preprocess the input text for natural language processing.\n",
    "\n",
    "    Args:\n",
    "        input_text (str): The input text to be preprocessed.\n",
    "\n",
    "    Returns:\n",
    "        str: The preprocessed text.\n",
    "    \"\"\"\n",
    "    # Step A : Converting html entities i.e. (&lt; &gt; &amp;)\n",
    "    text = html.unescape(input_text)\n",
    "    # Step B: Remove HTML tags\n",
    "    text = re.sub(re.compile('<.*?>'), \"\", text)\n",
    "    # Step C : Removing \"@user\" from all the text\n",
    "    text = re.sub(\"@[\\\\w]*\", \"\", text)\n",
    "    # Step D : Remove http & https links\n",
    "    text = re.sub(\"http://\\\\S+|https://\\\\S+\", \"\", text)\n",
    "    # Step E : Emoticon Lookup\n",
    "    text = lookup_dict(text, emoticons_dict)\n",
    "    # Step F : Emoji Lookup\n",
    "    text = emoji.demojize(text, delimiters=(\" \", \" \"))\n",
    "    # Step G : Changing all the text into lowercase\n",
    "    text = text.lower()\n",
    "    # Step H : Apostrophe Lookup\n",
    "    text = text.replace(\"’\", \"'\")\n",
    "    text = lookup_dict(text, apostrophe_dict)\n",
    "    # Step I : Short Word Lookup\n",
    "    text = lookup_dict(text, abbreviations_dict)\n",
    "    # Step J : Replacing Punctuations, Special Characters & Numbers (integers) with space\n",
    "    text = re.sub(r\"[^a-z]\", \" \", text)\n",
    "    # Step K: Remove whitespace\n",
    "    text = re.sub(r\"\\s+\", \" \", text)\n",
    "    return text"
   ]
  },
  {
   "cell_type": "markdown",
   "metadata": {},
   "source": [
    "## Sample Data Transformation 📄\n",
    "\n",
    "Let's apply the text preprocessing functions to a sample of the dataset to see the results."
   ]
  },
  {
   "cell_type": "code",
   "execution_count": 6,
   "metadata": {},
   "outputs": [
    {
     "name": "stderr",
     "output_type": "stream",
     "text": [
      "100%|██████████| 20/20 [00:00<00:00, 101.50it/s]\n"
     ]
    },
    {
     "data": {
      "text/html": [
       "<div>\n",
       "<style scoped>\n",
       "    .dataframe tbody tr th:only-of-type {\n",
       "        vertical-align: middle;\n",
       "    }\n",
       "\n",
       "    .dataframe tbody tr th {\n",
       "        vertical-align: top;\n",
       "    }\n",
       "\n",
       "    .dataframe thead th {\n",
       "        text-align: right;\n",
       "    }\n",
       "</style>\n",
       "<table border=\"1\" class=\"dataframe\">\n",
       "  <thead>\n",
       "    <tr style=\"text-align: right;\">\n",
       "      <th></th>\n",
       "      <th>text</th>\n",
       "      <th>clean_text</th>\n",
       "    </tr>\n",
       "  </thead>\n",
       "  <tbody>\n",
       "    <tr>\n",
       "      <th>712626</th>\n",
       "      <td>☹️\\n#NowPlaying “Bad (feat. Rihanna) [Remix]” by @Wale on #Anghami https://t.co/iHCmOj9wU3</td>\n",
       "      <td>frowning face nowplaying bad feat rihanna remix by on anghami</td>\n",
       "    </tr>\n",
       "    <tr>\n",
       "      <th>21935</th>\n",
       "      <td>floor test tomorrow nomination anglo indian assembly yedduyurappa must not make any major policy decisions meanwhile supremecourt</td>\n",
       "      <td>floor test tomorrow nomination anglo indian assembly yedduyurappa must not make any major policy decisions meanwhile supremecourt</td>\n",
       "    </tr>\n",
       "    <tr>\n",
       "      <th>324532</th>\n",
       "      <td>@Dizdi17 SP has regularly lied to people about our proposal not getting past the clerks. We are meant to believe that having torpedoed it with MPs LCAG then put our settlement proposal forward?\\nSteve still doesn’t seem to grasp the idea was to change the law, not ask HMRC for concessions https://t.co/qPFNVQFxqb</td>\n",
       "      <td>sp has regularly lied to people about our proposal not getting past the clerks we are meant to believe that having torpedoed it with mps lcag then put our settlement proposal forward steve still does not seem to grasp the idea was to change the law not ask hmrc for concessions</td>\n",
       "    </tr>\n",
       "    <tr>\n",
       "      <th>566900</th>\n",
       "      <td>@KattyKay_ Why do you keep watching? At this point anyone watching tv is the problem</td>\n",
       "      <td>why do you keep watching at this point anyone watching television is the problem</td>\n",
       "    </tr>\n",
       "    <tr>\n",
       "      <th>764931</th>\n",
       "      <td>I’m not no criminal baby dismiss me you ain’t gotta keep bringing me back ij hete</td>\n",
       "      <td>i am not no criminal baby dismiss me you are not got to keep bringing me back i am joking hete</td>\n",
       "    </tr>\n",
       "    <tr>\n",
       "      <th>528705</th>\n",
       "      <td>Another fact for the libs. The Supreme Court does NOT make law. So... #RowvWade wasn’t legitimate to start.</td>\n",
       "      <td>another fact for the libs the supreme court does not make law so rowvwade was not legitimate to start</td>\n",
       "    </tr>\n",
       "    <tr>\n",
       "      <th>325000</th>\n",
       "      <td>@BobbyKingNoon @_Tonnnyy @BIessedDiamond @MameronCagee502 @combat_insider @redpahR He never said it was the best version of Dustin</td>\n",
       "      <td>he never said it was the best version of dustin</td>\n",
       "    </tr>\n",
       "    <tr>\n",
       "      <th>550895</th>\n",
       "      <td>@EllenCoughlan @nhs_quality @TonyRoberts9 @HealthFdn Thanks again Ellen, and a great pleasure to 'meet' you via Skype today. Hope we'll catch up again somewhere soon</td>\n",
       "      <td>thanks again ellen and a great pleasure to meet you via skype today hope we will catch up again somewhere soon</td>\n",
       "    </tr>\n",
       "    <tr>\n",
       "      <th>338023</th>\n",
       "      <td>Criminal. https://t.co/G0scKkIsqk</td>\n",
       "      <td>criminal</td>\n",
       "    </tr>\n",
       "    <tr>\n",
       "      <th>242761</th>\n",
       "      <td>think till she critical modi invincible ’ start worry the day she starts supporting him</td>\n",
       "      <td>think till she critical modi invincible start worry the day she starts supporting him</td>\n",
       "    </tr>\n",
       "    <tr>\n",
       "      <th>48601</th>\n",
       "      <td>I loved this movie. In fact I loved being an actress in this movie. Iwas featured as a pregnant teenager in the second half of the movie. You may remember me more clearly in the classroom scene when the werewolf was exposing himself on film. I was the female in the front row with my hands planted on my face in reaction to what we were watching on the movie projector. In fact they double took me a few times so it's hard to miss that mistake. Thumbs up to Full Moon High. Wish it come to cable soon. Cheryl Lockett Alexander Leesville, Louisiana I loved this movie. In fact I loved being an actress in this movie. Iwas featured as a pregnant teenager in the second half of the movie. You may remember me more clearly in the classroom scene when the werewolf was exposing himself on film. I was the female in the front row with my hands planted on my face in reaction to what we were watching on the movie projector. In fact they double took me a few times so it's hard to miss that mistake. Thumbs up to Full Moon High. Wish it come to cable soon. Cheryl Lockett Alexander&lt;br /&gt;&lt;br /&gt;Leesville, Louisiana</td>\n",
       "      <td>i loved this movie in fact i loved being an actress in this movie iwas featured as a pregnant teenager in the second half of the movie you may remember me more clearly in the classroom scene when the werewolf was exposing himself on film i was the female in the front rest of the world with my hands planted on my face in reaction to what we were watching on the movie projector in fact they double took me a few times so it is hard to miss that mistake thumbs up to full moon high wish it come to cable soon cheryl lockett alexander leesville louisiana i loved this movie in fact i loved being an actress in this movie iwas featured as a pregnant teenager in the second half of the movie you may remember me more clearly in the classroom scene when the werewolf was exposing himself on film i was the female in the front rest of the world with my hands planted on my face in reaction to what we were watching on the movie projector in fact they double took me a few times so it is hard to miss that mistake thumbs up to full moon high wish it come to cable soon cheryl lockett alexanderleesville louisiana</td>\n",
       "    </tr>\n",
       "    <tr>\n",
       "      <th>178381</th>\n",
       "      <td>because thats how are treated you want demonstration you pig</td>\n",
       "      <td>because thats how are treated you want demonstration you pig</td>\n",
       "    </tr>\n",
       "    <tr>\n",
       "      <th>786533</th>\n",
       "      <td>@PlayVALORANT found a glitch where breach stub doesn’t hit chamber while tp is active</td>\n",
       "      <td>found a glitch where breach stub does not hit chamber while time pass is active</td>\n",
       "    </tr>\n",
       "    <tr>\n",
       "      <th>73781</th>\n",
       "      <td>this is one of my favorite movies ever! along with casablanca and cannibal holocaust, this is near perfect cinema. rex allen narrates this wonderful tale of a cougar who just needs a little loving. contains action, adventure, suspense, comedy, and riverbed chaos! SEE THIS MOVIE IF YOU HAVE TO KILL TO DO IT!!! you will not find a better cat picture anywhere, with \"cat from outer space\" coming in as a not so close second. charlie's performance is magnificent. even includes animal cruelty and intense logging! gotta love disney, for all moral failures!</td>\n",
       "      <td>this is one of my favorite movies ever along with casablanca and cannibal holocaust this is near perfect cinema rex allen narrates this wonderful tale of a cougar who just needs a little loving contains action adventure suspense comedy and riverbed chaos see this movie if you have to kill to do it you will not find a better cat picture anywhere with cat from outer space coming in as a not so close second charlie s performance is magnificent even includes animal cruelty and intense logging got to love disney for all moral failures</td>\n",
       "    </tr>\n",
       "    <tr>\n",
       "      <th>157679</th>\n",
       "      <td>modiji says all credit scientists but his party outside puts modi single handedly achieved this</td>\n",
       "      <td>modiji says all credit scientists but his party outside puts modi single handedly achieved this</td>\n",
       "    </tr>\n",
       "    <tr>\n",
       "      <th>937646</th>\n",
       "      <td>Located in Chicago, @NEMA is home to beautiful, tech-powered luxury apartments. \\n\\nTheir residents are able to get a morning boost by poring themselves a cold brew coffee with PourMyBeer’s self-serve tech!\\n\\n#innovation #technology #selfserve #coffee #coldbrew https://t.co/oY7us7UltN</td>\n",
       "      <td>located in chicago is home to beautiful tech powered luxury apartments their residents are able to get a morning boost by poring themselves a cold brew coffee with pourmybeer s self serve tech innovation technology selfserve coffee coldbrew</td>\n",
       "    </tr>\n",
       "    <tr>\n",
       "      <th>522097</th>\n",
       "      <td>me amd my broken heart #aşkçokyakın</td>\n",
       "      <td>me advanced micro devices my broken heart a k okyak n</td>\n",
       "    </tr>\n",
       "    <tr>\n",
       "      <th>84354</th>\n",
       "      <td>modi can give the riches rahul can our poor</td>\n",
       "      <td>modi can give the riches rahul can our poor</td>\n",
       "    </tr>\n",
       "    <tr>\n",
       "      <th>415243</th>\n",
       "      <td>De quel droit , mes tweets sont interceptés, ou\\nne passe pas ? Aucune conivence politique ?\\nj espere ?  Ou , une censure  quelconque ? Je me\\ndemande des questions? ( je ne suis pas journaliste ) ?</td>\n",
       "      <td>de quel droit mes tweets sont intercept s open university ne passe pas aucune conivence politique joking espere open university une censure quelconque jokinge me demande des questions jokinge ne suis pas jokingopen universityrnaliste</td>\n",
       "    </tr>\n",
       "    <tr>\n",
       "      <th>513507</th>\n",
       "      <td>@b4con_puto meta com o best https://t.co/L7245BLjUo</td>\n",
       "      <td>meta com o best</td>\n",
       "    </tr>\n",
       "  </tbody>\n",
       "</table>\n",
       "</div>"
      ],
      "text/plain": [
       "                                                                                                                                                                                                                                                                                                                                                                                                                                                                                                                                                                                                                                                                                                                                                                                                                                                                                                                                                                                                                                                                                                                                                      text  \\\n",
       "712626                                                                                                                                                                                                                                                                                                                                                                                                                                                                                                                                                                                                                                                                                                                                                                                                                                                                                                                                                                                                                                                          ☹️\\n#NowPlaying “Bad (feat. Rihanna) [Remix]” by @Wale on #Anghami https://t.co/iHCmOj9wU3   \n",
       "21935                                                                                                                                                                                                                                                                                                                                                                                                                                                                                                                                                                                                                                                                                                                                                                                                                                                                                                                                                                                                                   floor test tomorrow nomination anglo indian assembly yedduyurappa must not make any major policy decisions meanwhile supremecourt    \n",
       "324532                                                                                                                                                                                                                                                                                                                                                                                                                                                                                                                                                                                                                                                                                                                                                                                                                           @Dizdi17 SP has regularly lied to people about our proposal not getting past the clerks. We are meant to believe that having torpedoed it with MPs LCAG then put our settlement proposal forward?\\nSteve still doesn’t seem to grasp the idea was to change the law, not ask HMRC for concessions https://t.co/qPFNVQFxqb   \n",
       "566900                                                                                                                                                                                                                                                                                                                                                                                                                                                                                                                                                                                                                                                                                                                                                                                                                                                                                                                                                                                                                                                                @KattyKay_ Why do you keep watching? At this point anyone watching tv is the problem   \n",
       "764931                                                                                                                                                                                                                                                                                                                                                                                                                                                                                                                                                                                                                                                                                                                                                                                                                                                                                                                                                                                                                                                                   I’m not no criminal baby dismiss me you ain’t gotta keep bringing me back ij hete   \n",
       "528705                                                                                                                                                                                                                                                                                                                                                                                                                                                                                                                                                                                                                                                                                                                                                                                                                                                                                                                                                                                                                                         Another fact for the libs. The Supreme Court does NOT make law. So... #RowvWade wasn’t legitimate to start.   \n",
       "325000                                                                                                                                                                                                                                                                                                                                                                                                                                                                                                                                                                                                                                                                                                                                                                                                                                                                                                                                                                                                                  @BobbyKingNoon @_Tonnnyy @BIessedDiamond @MameronCagee502 @combat_insider @redpahR He never said it was the best version of Dustin   \n",
       "550895                                                                                                                                                                                                                                                                                                                                                                                                                                                                                                                                                                                                                                                                                                                                                                                                                                                                                                                                                                               @EllenCoughlan @nhs_quality @TonyRoberts9 @HealthFdn Thanks again Ellen, and a great pleasure to 'meet' you via Skype today. Hope we'll catch up again somewhere soon   \n",
       "338023                                                                                                                                                                                                                                                                                                                                                                                                                                                                                                                                                                                                                                                                                                                                                                                                                                                                                                                                                                                                                                                                                                                   Criminal. https://t.co/G0scKkIsqk   \n",
       "242761                                                                                                                                                                                                                                                                                                                                                                                                                                                                                                                                                                                                                                                                                                                                                                                                                                                                                                                                                                                                                                                             think till she critical modi invincible ’ start worry the day she starts supporting him   \n",
       "48601   I loved this movie. In fact I loved being an actress in this movie. Iwas featured as a pregnant teenager in the second half of the movie. You may remember me more clearly in the classroom scene when the werewolf was exposing himself on film. I was the female in the front row with my hands planted on my face in reaction to what we were watching on the movie projector. In fact they double took me a few times so it's hard to miss that mistake. Thumbs up to Full Moon High. Wish it come to cable soon. Cheryl Lockett Alexander Leesville, Louisiana I loved this movie. In fact I loved being an actress in this movie. Iwas featured as a pregnant teenager in the second half of the movie. You may remember me more clearly in the classroom scene when the werewolf was exposing himself on film. I was the female in the front row with my hands planted on my face in reaction to what we were watching on the movie projector. In fact they double took me a few times so it's hard to miss that mistake. Thumbs up to Full Moon High. Wish it come to cable soon. Cheryl Lockett Alexander<br /><br />Leesville, Louisiana   \n",
       "178381                                                                                                                                                                                                                                                                                                                                                                                                                                                                                                                                                                                                                                                                                                                                                                                                                                                                                                                                                                                                                                                                                       because thats how are treated you want demonstration you pig    \n",
       "786533                                                                                                                                                                                                                                                                                                                                                                                                                                                                                                                                                                                                                                                                                                                                                                                                                                                                                                                                                                                                                                                               @PlayVALORANT found a glitch where breach stub doesn’t hit chamber while tp is active   \n",
       "73781                                                                                                                                                                                                                                                                                                                                                                                                                                                                                                                                                                           this is one of my favorite movies ever! along with casablanca and cannibal holocaust, this is near perfect cinema. rex allen narrates this wonderful tale of a cougar who just needs a little loving. contains action, adventure, suspense, comedy, and riverbed chaos! SEE THIS MOVIE IF YOU HAVE TO KILL TO DO IT!!! you will not find a better cat picture anywhere, with \"cat from outer space\" coming in as a not so close second. charlie's performance is magnificent. even includes animal cruelty and intense logging! gotta love disney, for all moral failures!   \n",
       "157679                                                                                                                                                                                                                                                                                                                                                                                                                                                                                                                                                                                                                                                                                                                                                                                                                                                                                                                                                                                                                                                    modiji says all credit scientists but his party outside puts modi single handedly achieved this    \n",
       "937646                                                                                                                                                                                                                                                                                                                                                                                                                                                                                                                                                                                                                                                                                                                                                                                                                                                      Located in Chicago, @NEMA is home to beautiful, tech-powered luxury apartments. \\n\\nTheir residents are able to get a morning boost by poring themselves a cold brew coffee with PourMyBeer’s self-serve tech!\\n\\n#innovation #technology #selfserve #coffee #coldbrew https://t.co/oY7us7UltN   \n",
       "522097                                                                                                                                                                                                                                                                                                                                                                                                                                                                                                                                                                                                                                                                                                                                                                                                                                                                                                                                                                                                                                                                                                                 me amd my broken heart #aşkçokyakın   \n",
       "84354                                                                                                                                                                                                                                                                                                                                                                                                                                                                                                                                                                                                                                                                                                                                                                                                                                                                                                                                                                                                                                                                                                         modi can give the riches rahul can our poor    \n",
       "415243                                                                                                                                                                                                                                                                                                                                                                                                                                                                                                                                                                                                                                                                                                                                                                                                                                                                                                                                             De quel droit , mes tweets sont interceptés, ou\\nne passe pas ? Aucune conivence politique ?\\nj espere ?  Ou , une censure  quelconque ? Je me\\ndemande des questions? ( je ne suis pas journaliste ) ?   \n",
       "513507                                                                                                                                                                                                                                                                                                                                                                                                                                                                                                                                                                                                                                                                                                                                                                                                                                                                                                                                                                                                                                                                                                 @b4con_puto meta com o best https://t.co/L7245BLjUo   \n",
       "\n",
       "                                                                                                                                                                                                                                                                                                                                                                                                                                                                                                                                                                                                                                                                                                                                                                                                                                                                                                                                                                                                                                                                                                                                                clean_text  \n",
       "712626                                                                                                                                                                                                                                                                                                                                                                                                                                                                                                                                                                                                                                                                                                                                                                                                                                                                                                                                                                                                                                                                                      frowning face nowplaying bad feat rihanna remix by on anghami   \n",
       "21935                                                                                                                                                                                                                                                                                                                                                                                                                                                                                                                                                                                                                                                                                                                                                                                                                                                                                                                                                                                                                   floor test tomorrow nomination anglo indian assembly yedduyurappa must not make any major policy decisions meanwhile supremecourt   \n",
       "324532                                                                                                                                                                                                                                                                                                                                                                                                                                                                                                                                                                                                                                                                                                                                                                                                                                                              sp has regularly lied to people about our proposal not getting past the clerks we are meant to believe that having torpedoed it with mps lcag then put our settlement proposal forward steve still does not seem to grasp the idea was to change the law not ask hmrc for concessions   \n",
       "566900                                                                                                                                                                                                                                                                                                                                                                                                                                                                                                                                                                                                                                                                                                                                                                                                                                                                                                                                                                                                                                                                    why do you keep watching at this point anyone watching television is the problem  \n",
       "764931                                                                                                                                                                                                                                                                                                                                                                                                                                                                                                                                                                                                                                                                                                                                                                                                                                                                                                                                                                                                                                                      i am not no criminal baby dismiss me you are not got to keep bringing me back i am joking hete  \n",
       "528705                                                                                                                                                                                                                                                                                                                                                                                                                                                                                                                                                                                                                                                                                                                                                                                                                                                                                                                                                                                                                                              another fact for the libs the supreme court does not make law so rowvwade was not legitimate to start   \n",
       "325000                                                                                                                                                                                                                                                                                                                                                                                                                                                                                                                                                                                                                                                                                                                                                                                                                                                                                                                                                                                                                                                                                                     he never said it was the best version of dustin  \n",
       "550895                                                                                                                                                                                                                                                                                                                                                                                                                                                                                                                                                                                                                                                                                                                                                                                                                                                                                                                                                                                                                                      thanks again ellen and a great pleasure to meet you via skype today hope we will catch up again somewhere soon  \n",
       "338023                                                                                                                                                                                                                                                                                                                                                                                                                                                                                                                                                                                                                                                                                                                                                                                                                                                                                                                                                                                                                                                                                                                                           criminal   \n",
       "242761                                                                                                                                                                                                                                                                                                                                                                                                                                                                                                                                                                                                                                                                                                                                                                                                                                                                                                                                                                                                                                                               think till she critical modi invincible start worry the day she starts supporting him  \n",
       "48601   i loved this movie in fact i loved being an actress in this movie iwas featured as a pregnant teenager in the second half of the movie you may remember me more clearly in the classroom scene when the werewolf was exposing himself on film i was the female in the front rest of the world with my hands planted on my face in reaction to what we were watching on the movie projector in fact they double took me a few times so it is hard to miss that mistake thumbs up to full moon high wish it come to cable soon cheryl lockett alexander leesville louisiana i loved this movie in fact i loved being an actress in this movie iwas featured as a pregnant teenager in the second half of the movie you may remember me more clearly in the classroom scene when the werewolf was exposing himself on film i was the female in the front rest of the world with my hands planted on my face in reaction to what we were watching on the movie projector in fact they double took me a few times so it is hard to miss that mistake thumbs up to full moon high wish it come to cable soon cheryl lockett alexanderleesville louisiana  \n",
       "178381                                                                                                                                                                                                                                                                                                                                                                                                                                                                                                                                                                                                                                                                                                                                                                                                                                                                                                                                                                                                                                                                                       because thats how are treated you want demonstration you pig   \n",
       "786533                                                                                                                                                                                                                                                                                                                                                                                                                                                                                                                                                                                                                                                                                                                                                                                                                                                                                                                                                                                                                                                                     found a glitch where breach stub does not hit chamber while time pass is active  \n",
       "73781                                                                                                                                                                                                                                                                                                                                                                                                                                                                                                                                                                                             this is one of my favorite movies ever along with casablanca and cannibal holocaust this is near perfect cinema rex allen narrates this wonderful tale of a cougar who just needs a little loving contains action adventure suspense comedy and riverbed chaos see this movie if you have to kill to do it you will not find a better cat picture anywhere with cat from outer space coming in as a not so close second charlie s performance is magnificent even includes animal cruelty and intense logging got to love disney for all moral failures   \n",
       "157679                                                                                                                                                                                                                                                                                                                                                                                                                                                                                                                                                                                                                                                                                                                                                                                                                                                                                                                                                                                                                                                    modiji says all credit scientists but his party outside puts modi single handedly achieved this   \n",
       "937646                                                                                                                                                                                                                                                                                                                                                                                                                                                                                                                                                                                                                                                                                                                                                                                                                                                                                                   located in chicago is home to beautiful tech powered luxury apartments their residents are able to get a morning boost by poring themselves a cold brew coffee with pourmybeer s self serve tech innovation technology selfserve coffee coldbrew   \n",
       "522097                                                                                                                                                                                                                                                                                                                                                                                                                                                                                                                                                                                                                                                                                                                                                                                                                                                                                                                                                                                                                                                                                               me advanced micro devices my broken heart a k okyak n  \n",
       "84354                                                                                                                                                                                                                                                                                                                                                                                                                                                                                                                                                                                                                                                                                                                                                                                                                                                                                                                                                                                                                                                                                                         modi can give the riches rahul can our poor   \n",
       "415243                                                                                                                                                                                                                                                                                                                                                                                                                                                                                                                                                                                                                                                                                                                                                                                                                                                                                                          de quel droit mes tweets sont intercept s open university ne passe pas aucune conivence politique joking espere open university une censure quelconque jokinge me demande des questions jokinge ne suis pas jokingopen universityrnaliste   \n",
       "513507                                                                                                                                                                                                                                                                                                                                                                                                                                                                                                                                                                                                                                                                                                                                                                                                                                                                                                                                                                                                                                                                                                                                    meta com o best   "
      ]
     },
     "execution_count": 6,
     "metadata": {},
     "output_type": "execute_result"
    }
   ],
   "source": [
    "sample_df = df.sample(20, random_state=42)\n",
    "sample_df['clean_text'] = sample_df['text'].progress_apply(preprocessing)\n",
    "sample_df.head(20)"
   ]
  },
  {
   "cell_type": "markdown",
   "metadata": {},
   "source": [
    "Test text preprocessing on a single example"
   ]
  },
  {
   "cell_type": "code",
   "execution_count": 7,
   "metadata": {},
   "outputs": [
    {
     "name": "stdout",
     "output_type": "stream",
     "text": [
      "preprocessing(input_text) = ' this is an example text with some special characters symbols it contains mentions links like and emoticons like as well as some emojis grinning face with smiling eyes thumbs up let us test the preprocessing steps as soon as possible '\n"
     ]
    }
   ],
   "source": [
    "input_text = \"\"\"                               \\n \\t\n",
    "    <p>This is an example text with some special characters &amp; symbols. \n",
    "    It contains @user mentions, links like https://example.com, \n",
    "    and emoticons like :-), as well as some emojis: 😄👍.</p>\n",
    "    Let's test the preprocessing steps asap !\n",
    "    \"\"\"\n",
    "print(f\"{preprocessing(input_text) = }\")"
   ]
  },
  {
   "cell_type": "markdown",
   "metadata": {},
   "source": [
    "## Full Dataset Processing 🚀\n",
    "\n",
    "If you'd like to run this text preprocessing on the full dataset, you can find the code in the [src/utils/clean_text.py](src/utils/clean_text.py) file. Simply execute the script to preprocess the entire dataset.\n",
    "\n",
    "## Conclusion 📝\n",
    "This notebook has covered the crucial steps of text preprocessing, including handling HTML entities, user mentions, links, emoticons, and more. The resulting clean text is now ready for use in various NLP tasks, such as sentiment analysis, topic modeling, or text classification.\n",
    "\n",
    "Happy text preprocessing! 🧼✨"
   ]
  }
 ],
 "metadata": {
  "kernelspec": {
   "display_name": "env",
   "language": "python",
   "name": "python3"
  },
  "language_info": {
   "codemirror_mode": {
    "name": "ipython",
    "version": 3
   },
   "file_extension": ".py",
   "mimetype": "text/x-python",
   "name": "python",
   "nbconvert_exporter": "python",
   "pygments_lexer": "ipython3",
   "version": "3.10.9"
  },
  "orig_nbformat": 4
 },
 "nbformat": 4,
 "nbformat_minor": 2
}
