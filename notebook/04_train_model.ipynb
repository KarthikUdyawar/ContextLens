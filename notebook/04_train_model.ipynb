{
 "cells": [
  {
   "cell_type": "code",
   "execution_count": null,
   "metadata": {},
   "outputs": [],
   "source": [
    "import torch\n",
    "import torch.nn as nn\n",
    "from transformers import BertModel, BertTokenizer\n",
    "from torch.optim import Adam\n",
    "from torch.utils.data import DataLoader, Dataset\n",
    "import pandas as pd\n",
    "from tqdm import tqdm\n",
    "from torch.nn import BCEWithLogitsLoss\n",
    "import datetime\n",
    "from sklearn.metrics import confusion_matrix\n",
    "import seaborn as sns\n",
    "import matplotlib.pyplot as plt\n",
    "from sklearn.preprocessing import OneHotEncoder"
   ]
  },
  {
   "cell_type": "code",
   "execution_count": 2,
   "metadata": {},
   "outputs": [],
   "source": [
    "tqdm.pandas()\n",
    "pd.set_option(\"display.max_colwidth\", None)\n",
    "\n",
    "parquet_file_path = \".\\..\\data\\intermediate_data\\sample_dataset.br\"\n",
    "df = pd.read_parquet(parquet_file_path, engine=\"pyarrow\")"
   ]
  },
  {
   "cell_type": "code",
   "execution_count": 3,
   "metadata": {},
   "outputs": [
    {
     "name": "stdout",
     "output_type": "stream",
     "text": [
      "<class 'pandas.core.frame.DataFrame'>\n",
      "RangeIndex: 14520 entries, 0 to 14519\n",
      "Data columns (total 2 columns):\n",
      " #   Column     Non-Null Count  Dtype \n",
      "---  ------     --------------  ----- \n",
      " 0   text       14520 non-null  string\n",
      " 1   sentiment  14520 non-null  string\n",
      "dtypes: string(2)\n",
      "memory usage: 227.0 KB\n"
     ]
    }
   ],
   "source": [
    "df.info()"
   ]
  },
  {
   "cell_type": "code",
   "execution_count": 4,
   "metadata": {},
   "outputs": [
    {
     "data": {
      "text/plain": [
       "sentiment\n",
       "positive    4840\n",
       "neutral     4840\n",
       "negative    4840\n",
       "Name: count, dtype: Int64"
      ]
     },
     "execution_count": 4,
     "metadata": {},
     "output_type": "execute_result"
    }
   ],
   "source": [
    "df.sentiment.value_counts()"
   ]
  },
  {
   "cell_type": "code",
   "execution_count": 5,
   "metadata": {},
   "outputs": [
    {
     "data": {
      "text/html": [
       "<div>\n",
       "<style scoped>\n",
       "    .dataframe tbody tr th:only-of-type {\n",
       "        vertical-align: middle;\n",
       "    }\n",
       "\n",
       "    .dataframe tbody tr th {\n",
       "        vertical-align: top;\n",
       "    }\n",
       "\n",
       "    .dataframe thead th {\n",
       "        text-align: right;\n",
       "    }\n",
       "</style>\n",
       "<table border=\"1\" class=\"dataframe\">\n",
       "  <thead>\n",
       "    <tr style=\"text-align: right;\">\n",
       "      <th></th>\n",
       "      <th>text</th>\n",
       "      <th>sentiment</th>\n",
       "    </tr>\n",
       "  </thead>\n",
       "  <tbody>\n",
       "    <tr>\n",
       "      <th>0</th>\n",
       "      <td>thank god took him long enough to give up on that psycho</td>\n",
       "      <td>negative</td>\n",
       "    </tr>\n",
       "    <tr>\n",
       "      <th>1</th>\n",
       "      <td>modi has build his reputation doctorate fakeology questioning being anti modi doesnt make you anti national has failed all fronts bombing terrorists pakistan with what result lost jawans due failed intelligence period</td>\n",
       "      <td>negative</td>\n",
       "    </tr>\n",
       "    <tr>\n",
       "      <th>2</th>\n",
       "      <td>terrorist attacks have been the rise jnk and all other places under modi govt amount chest thumping and propaganda can hide these sad facts thump modi out this time</td>\n",
       "      <td>negative</td>\n",
       "    </tr>\n",
       "    <tr>\n",
       "      <th>3</th>\n",
       "      <td>well stay in the uk you greasy ass dirt dauber middle finger we did not ask for anyone s opinion outside of america about the roe versus against wade decision this was a flawed ruling that lasted where are you too long our supreme court is our s not the world s mind yo business enraged face</td>\n",
       "      <td>negative</td>\n",
       "    </tr>\n",
       "    <tr>\n",
       "      <th>4</th>\n",
       "      <td>from the same inventors of keep it simple stupid on the mouth out of gratitude comes keep it simple stupid on the mouth of family lost friends that is friends brothers cousins uncles fathers mothers and children if by chance they separated keep it simple stupid each other on the mouth when they meet again</td>\n",
       "      <td>negative</td>\n",
       "    </tr>\n",
       "    <tr>\n",
       "      <th>...</th>\n",
       "      <td>...</td>\n",
       "      <td>...</td>\n",
       "    </tr>\n",
       "    <tr>\n",
       "      <th>2995</th>\n",
       "      <td>i d probably shag her to be fair</td>\n",
       "      <td>positive</td>\n",
       "    </tr>\n",
       "    <tr>\n",
       "      <th>2996</th>\n",
       "      <td>hello it would be really good if i won thanks and much love</td>\n",
       "      <td>positive</td>\n",
       "    </tr>\n",
       "    <tr>\n",
       "      <th>2997</th>\n",
       "      <td>ahaha incredible inscription wow thanks for trying</td>\n",
       "      <td>positive</td>\n",
       "    </tr>\n",
       "    <tr>\n",
       "      <th>2998</th>\n",
       "      <td>there is something big going on in america and around the world earth is still running though so there is alot of heroes if anything can be done to help it is paradoxing with info making networks and being witness that some kind of deal some kind of unity has to be reached fire dove</td>\n",
       "      <td>positive</td>\n",
       "    </tr>\n",
       "    <tr>\n",
       "      <th>2999</th>\n",
       "      <td>too dumb to be president genuinely think this is going to become a legal debate</td>\n",
       "      <td>positive</td>\n",
       "    </tr>\n",
       "  </tbody>\n",
       "</table>\n",
       "<p>3000 rows × 2 columns</p>\n",
       "</div>"
      ],
      "text/plain": [
       "                                                                                                                                                                                                                                                                                                                     text  \\\n",
       "0                                                                                                                                                                                                                                                                thank god took him long enough to give up on that psycho   \n",
       "1                                                                                               modi has build his reputation doctorate fakeology questioning being anti modi doesnt make you anti national has failed all fronts bombing terrorists pakistan with what result lost jawans due failed intelligence period   \n",
       "2                                                                                                                                                   terrorist attacks have been the rise jnk and all other places under modi govt amount chest thumping and propaganda can hide these sad facts thump modi out this time    \n",
       "3                    well stay in the uk you greasy ass dirt dauber middle finger we did not ask for anyone s opinion outside of america about the roe versus against wade decision this was a flawed ruling that lasted where are you too long our supreme court is our s not the world s mind yo business enraged face    \n",
       "4     from the same inventors of keep it simple stupid on the mouth out of gratitude comes keep it simple stupid on the mouth of family lost friends that is friends brothers cousins uncles fathers mothers and children if by chance they separated keep it simple stupid each other on the mouth when they meet again    \n",
       "...                                                                                                                                                                                                                                                                                                                   ...   \n",
       "2995                                                                                                                                                                                                                                                                                     i d probably shag her to be fair   \n",
       "2996                                                                                                                                                                                                                                                          hello it would be really good if i won thanks and much love   \n",
       "2997                                                                                                                                                                                                                                                                  ahaha incredible inscription wow thanks for trying    \n",
       "2998                         there is something big going on in america and around the world earth is still running though so there is alot of heroes if anything can be done to help it is paradoxing with info making networks and being witness that some kind of deal some kind of unity has to be reached fire dove    \n",
       "2999                                                                                                                                                                                                                                      too dumb to be president genuinely think this is going to become a legal debate   \n",
       "\n",
       "     sentiment  \n",
       "0     negative  \n",
       "1     negative  \n",
       "2     negative  \n",
       "3     negative  \n",
       "4     negative  \n",
       "...        ...  \n",
       "2995  positive  \n",
       "2996  positive  \n",
       "2997  positive  \n",
       "2998  positive  \n",
       "2999  positive  \n",
       "\n",
       "[3000 rows x 2 columns]"
      ]
     },
     "execution_count": 5,
     "metadata": {},
     "output_type": "execute_result"
    }
   ],
   "source": [
    "df1 = df[df.sentiment == 'negative'].sample(1000, random_state=42)\n",
    "df2 = df[df.sentiment == 'neutral'].sample(1000, random_state=42)\n",
    "df3 = df[df.sentiment == 'positive'].sample(1000, random_state=42)\n",
    "\n",
    "df = pd.concat([df1, df2, df3], axis=0).reset_index(drop=True)\n",
    "\n",
    "df"
   ]
  },
  {
   "cell_type": "code",
   "execution_count": 6,
   "metadata": {},
   "outputs": [],
   "source": [
    "X = df[\"text\"].to_frame(name=\"text\")\n",
    "y = df[\"sentiment\"]"
   ]
  },
  {
   "cell_type": "code",
   "execution_count": 7,
   "metadata": {},
   "outputs": [],
   "source": [
    "from src.utils.split_data import TrainValidTestSplitter\n",
    "\n",
    "\n",
    "data_splitter = TrainValidTestSplitter(X, y, test_size=0.3, random_state=42)\n",
    "\n",
    "train_df, valid_df, test_df = data_splitter.get_dataframes()"
   ]
  },
  {
   "cell_type": "code",
   "execution_count": 10,
   "metadata": {},
   "outputs": [],
   "source": [
    "class TextDataset(Dataset):\n",
    "    def __init__(self, texts, labels, tokenizer, max_length):\n",
    "        self.texts = texts\n",
    "        self.labels = labels\n",
    "        self.tokenizer = tokenizer\n",
    "        self.max_length = max_length\n",
    "\n",
    "    def __len__(self):\n",
    "        return len(self.texts)\n",
    "\n",
    "    def __getitem__(self, idx):\n",
    "        text = self.texts[idx]\n",
    "        label = self.labels[idx]\n",
    "\n",
    "        encoding = self.tokenizer.encode_plus(\n",
    "            text,\n",
    "            add_special_tokens=True,\n",
    "            max_length=self.max_length,\n",
    "            return_token_type_ids=False,\n",
    "            padding=\"max_length\",\n",
    "            return_attention_mask=True,\n",
    "            return_tensors=\"pt\",\n",
    "            truncation=True,\n",
    "        )\n",
    "\n",
    "        if label:\n",
    "            return {\n",
    "                \"input_ids\": encoding[\"input_ids\"].flatten(),\n",
    "                \"attention_mask\": encoding[\"attention_mask\"].flatten(),\n",
    "                \"labels\": torch.tensor(label, dtype=torch.float),\n",
    "            }\n",
    "        else:\n",
    "            return {\n",
    "                \"input_ids\": encoding[\"input_ids\"].flatten(),\n",
    "                \"attention_mask\": encoding[\"attention_mask\"].flatten(),\n",
    "            }"
   ]
  },
  {
   "cell_type": "code",
   "execution_count": 11,
   "metadata": {},
   "outputs": [],
   "source": [
    "class CustomBERTClassifier(nn.Module):\n",
    "    def __init__(self, num_classes):\n",
    "        super(CustomBERTClassifier, self).__init__()\n",
    "        # Loading pre-implemented BERT model\n",
    "        self.bert = BertModel.from_pretrained(\"bert-base-uncased\")\n",
    "        # Custom additional layers\n",
    "        self.fc1 = nn.Linear(self.bert.config.hidden_size, 128)\n",
    "        self.fc2 = nn.Linear(128, num_classes)  # Add another fully connected layer\n",
    "        self.relu = nn.ReLU()\n",
    "        self.softmax = nn.Softmax(dim=1)\n",
    "\n",
    "    def forward(self, input_ids, attention_mask):\n",
    "        # BERT model\n",
    "        bert_outputs = self.bert(input_ids=input_ids, attention_mask=attention_mask)\n",
    "        # Extracting CLS token representation\n",
    "        cls_output = bert_outputs[\"last_hidden_state\"][:, 0, :]\n",
    "        # Custom layers\n",
    "        x = self.fc1(cls_output)\n",
    "        x = self.relu(x)\n",
    "        x = self.fc2(x)\n",
    "        x = self.softmax(x)\n",
    "        return x"
   ]
  },
  {
   "cell_type": "code",
   "execution_count": 12,
   "metadata": {},
   "outputs": [],
   "source": [
    "model = CustomBERTClassifier(num_classes=3)\n",
    "tokenizer = BertTokenizer.from_pretrained(\"bert-base-uncased\")"
   ]
  },
  {
   "cell_type": "code",
   "execution_count": 13,
   "metadata": {},
   "outputs": [],
   "source": [
    "# One hot encoding\n",
    "one_hot = OneHotEncoder()\n",
    "train_data = one_hot.fit_transform(train_df[['target']]).toarray().tolist()\n",
    "val_data = one_hot.fit_transform(valid_df[['target']]).toarray().tolist()\n",
    "test_data = one_hot.fit_transform(test_df[['target']]).toarray().tolist()"
   ]
  },
  {
   "cell_type": "code",
   "execution_count": 14,
   "metadata": {},
   "outputs": [
    {
     "data": {
      "text/plain": [
       "[array(['negative', 'neutral', 'positive'], dtype=object)]"
      ]
     },
     "execution_count": 14,
     "metadata": {},
     "output_type": "execute_result"
    }
   ],
   "source": [
    "one_hot.categories_"
   ]
  },
  {
   "cell_type": "code",
   "execution_count": 15,
   "metadata": {},
   "outputs": [],
   "source": [
    "# Dataset creation and DataLoader\n",
    "train_texts = train_df['text'].tolist()\n",
    "val_texts = valid_df['text'].tolist()\n",
    "test_texts = test_df['text'].tolist()"
   ]
  },
  {
   "cell_type": "code",
   "execution_count": 16,
   "metadata": {},
   "outputs": [],
   "source": [
    "max_length = 100\n",
    "train_dataset = TextDataset(train_texts, train_data, tokenizer, max_length)\n",
    "val_dataset = TextDataset(val_texts, val_data, tokenizer, max_length)\n",
    "test_dataset = TextDataset(test_texts, test_data, tokenizer, max_length)"
   ]
  },
  {
   "cell_type": "code",
   "execution_count": 17,
   "metadata": {},
   "outputs": [],
   "source": [
    "train_loader = DataLoader(train_dataset, batch_size=16, shuffle=True)\n",
    "val_loader = DataLoader(val_dataset, batch_size=16)\n",
    "test_loader = DataLoader(test_dataset, batch_size=16)"
   ]
  },
  {
   "cell_type": "code",
   "execution_count": 18,
   "metadata": {},
   "outputs": [],
   "source": [
    "from sklearn.metrics import accuracy_score\n",
    "\n",
    "def get_accuracy(predictions, real_values):\n",
    "    predictions = torch.cat(predictions).cpu()\n",
    "    real_values = torch.cat(real_values).cpu()\n",
    "\n",
    "    predictions = torch.argmax(predictions, axis=1).numpy()\n",
    "    real_values = torch.argmax(real_values, axis=1).numpy()\n",
    "\n",
    "    return accuracy_score(predictions, real_values)"
   ]
  },
  {
   "cell_type": "code",
   "execution_count": 19,
   "metadata": {},
   "outputs": [],
   "source": [
    "def train_model(model, train_dataloader, optimizer, criterion, device):\n",
    "    model.train()\n",
    "    total_loss = 0\n",
    "    predictions = []\n",
    "    real_values = []\n",
    "\n",
    "    # Initialize tqdm to show progress bar\n",
    "    loop = tqdm(enumerate(train_dataloader), total=len(train_dataloader), leave=True)\n",
    "\n",
    "    for batch_idx, batch in loop:\n",
    "        input_ids = batch['input_ids'].to(device)\n",
    "        attention_mask = batch['attention_mask'].to(device)\n",
    "        labels = batch['labels'].to(device)\n",
    "\n",
    "        optimizer.zero_grad()\n",
    "        outputs = model(input_ids, attention_mask)\n",
    "        loss = criterion(outputs, labels)\n",
    "\n",
    "        loss.backward()\n",
    "        optimizer.step()\n",
    "\n",
    "        total_loss += loss.item()\n",
    "        \n",
    "        predictions.append(outputs)\n",
    "        real_values.append(labels)\n",
    "\n",
    "        # Update progress bar\n",
    "        loop.set_description(\"Train\")\n",
    "        loop.set_postfix(loss=loss.item())\n",
    "\n",
    "        \n",
    "    accuracy = get_accuracy(predictions, real_values)\n",
    "\n",
    "    return total_loss / len(train_dataloader), accuracy\n"
   ]
  },
  {
   "cell_type": "code",
   "execution_count": 20,
   "metadata": {},
   "outputs": [],
   "source": [
    "def test(model, test_dataloader, criterion, device):\n",
    "    model.eval()\n",
    "    total_loss = 0\n",
    "    predictions = []\n",
    "    real_values = []\n",
    "\n",
    "    # Initialize tqdm to show progress bar\n",
    "    loop = tqdm(enumerate(test_dataloader), total=len(test_dataloader), leave=True)\n",
    "\n",
    "    for batch_idx, batch in loop:\n",
    "        input_ids = batch['input_ids'].to(device)\n",
    "        attention_mask = batch['attention_mask'].to(device)\n",
    "        labels = batch['labels'].to(device)\n",
    "\n",
    "        with torch.no_grad():\n",
    "            outputs = model(input_ids, attention_mask)\n",
    "            loss = criterion(outputs, labels)\n",
    "\n",
    "            total_loss += loss.item()\n",
    "            \n",
    "            predictions.append(outputs)\n",
    "            real_values.append(labels)\n",
    "    \n",
    "            # Update progress bar\n",
    "            loop.set_description(\"Test\")\n",
    "            loop.set_postfix(loss=loss.item())\n",
    "            \n",
    "    accuracy = get_accuracy(predictions, real_values)\n",
    "\n",
    "    return total_loss / len(test_dataloader), accuracy"
   ]
  },
  {
   "cell_type": "code",
   "execution_count": 21,
   "metadata": {},
   "outputs": [
    {
     "data": {
      "text/plain": [
       "device(type='cuda')"
      ]
     },
     "execution_count": 21,
     "metadata": {},
     "output_type": "execute_result"
    }
   ],
   "source": [
    "# Checking if GPU is available\n",
    "device = torch.device(\"cuda\" if torch.cuda.is_available() else \"cpu\")\n",
    "if device.type != \"cuda\":\n",
    "    raise Exception(\"=== GPU not found ===\")\n",
    "device"
   ]
  },
  {
   "cell_type": "code",
   "execution_count": 22,
   "metadata": {},
   "outputs": [],
   "source": [
    "# Model, optimizer, criterion initialization\n",
    "optimizer = Adam(model.parameters(), lr=1e-5)\n",
    "criterion = BCEWithLogitsLoss()\n",
    "num_epochs = 20"
   ]
  },
  {
   "cell_type": "code",
   "execution_count": 23,
   "metadata": {},
   "outputs": [
    {
     "name": "stdout",
     "output_type": "stream",
     "text": [
      "\n",
      "Epoch: 1/20\n"
     ]
    },
    {
     "name": "stderr",
     "output_type": "stream",
     "text": [
      "Train: 100%|██████████| 263/263 [02:33<00:00,  1.72it/s, loss=0.632]\n"
     ]
    },
    {
     "name": "stdout",
     "output_type": "stream",
     "text": [
      "Train Loss: 0.7164\t\tTrain Accuracy: 0.5693\n"
     ]
    },
    {
     "name": "stderr",
     "output_type": "stream",
     "text": [
      "Test: 100%|██████████| 29/29 [00:04<00:00,  6.11it/s, loss=0.844]\n"
     ]
    },
    {
     "name": "stdout",
     "output_type": "stream",
     "text": [
      "Val Loss: 0.6623\t\tVal Accuracy: 0.7400\n",
      "\n",
      "Epoch: 2/20\n"
     ]
    },
    {
     "name": "stderr",
     "output_type": "stream",
     "text": [
      "Train: 100%|██████████| 263/263 [02:32<00:00,  1.72it/s, loss=0.646]\n"
     ]
    },
    {
     "name": "stdout",
     "output_type": "stream",
     "text": [
      "Train Loss: 0.6219\t\tTrain Accuracy: 0.8476\n"
     ]
    },
    {
     "name": "stderr",
     "output_type": "stream",
     "text": [
      "Test: 100%|██████████| 29/29 [00:04<00:00,  6.07it/s, loss=0.733]\n"
     ]
    },
    {
     "name": "stdout",
     "output_type": "stream",
     "text": [
      "Val Loss: 0.6413\t\tVal Accuracy: 0.7844\n",
      "\n",
      "Epoch: 3/20\n"
     ]
    },
    {
     "name": "stderr",
     "output_type": "stream",
     "text": [
      "Train: 100%|██████████| 263/263 [02:41<00:00,  1.63it/s, loss=0.606]\n"
     ]
    },
    {
     "name": "stdout",
     "output_type": "stream",
     "text": [
      "Train Loss: 0.6043\t\tTrain Accuracy: 0.8933\n"
     ]
    },
    {
     "name": "stderr",
     "output_type": "stream",
     "text": [
      "Test: 100%|██████████| 29/29 [00:04<00:00,  6.08it/s, loss=0.733]\n"
     ]
    },
    {
     "name": "stdout",
     "output_type": "stream",
     "text": [
      "Val Loss: 0.6366\t\tVal Accuracy: 0.7978\n",
      "\n",
      "Epoch: 4/20\n"
     ]
    },
    {
     "name": "stderr",
     "output_type": "stream",
     "text": [
      "Train: 100%|██████████| 263/263 [02:43<00:00,  1.61it/s, loss=0.617]\n"
     ]
    },
    {
     "name": "stdout",
     "output_type": "stream",
     "text": [
      "Train Loss: 0.5938\t\tTrain Accuracy: 0.9217\n"
     ]
    },
    {
     "name": "stderr",
     "output_type": "stream",
     "text": [
      "Test: 100%|██████████| 29/29 [00:04<00:00,  6.08it/s, loss=0.787]\n"
     ]
    },
    {
     "name": "stdout",
     "output_type": "stream",
     "text": [
      "Val Loss: 0.6419\t\tVal Accuracy: 0.7889\n",
      "\n",
      "Epoch: 5/20\n"
     ]
    },
    {
     "name": "stderr",
     "output_type": "stream",
     "text": [
      "Train: 100%|██████████| 263/263 [02:19<00:00,  1.89it/s, loss=0.599]\n"
     ]
    },
    {
     "name": "stdout",
     "output_type": "stream",
     "text": [
      "Train Loss: 0.5890\t\tTrain Accuracy: 0.9345\n"
     ]
    },
    {
     "name": "stderr",
     "output_type": "stream",
     "text": [
      "Test: 100%|██████████| 29/29 [00:03<00:00,  9.24it/s, loss=0.733]\n"
     ]
    },
    {
     "name": "stdout",
     "output_type": "stream",
     "text": [
      "Val Loss: 0.6459\t\tVal Accuracy: 0.7711\n",
      "\n",
      "Epoch: 6/20\n"
     ]
    },
    {
     "name": "stderr",
     "output_type": "stream",
     "text": [
      "Train: 100%|██████████| 263/263 [02:04<00:00,  2.11it/s, loss=0.606]\n"
     ]
    },
    {
     "name": "stdout",
     "output_type": "stream",
     "text": [
      "Train Loss: 0.5862\t\tTrain Accuracy: 0.9426\n"
     ]
    },
    {
     "name": "stderr",
     "output_type": "stream",
     "text": [
      "Test: 100%|██████████| 29/29 [00:03<00:00,  8.95it/s, loss=0.734]\n"
     ]
    },
    {
     "name": "stdout",
     "output_type": "stream",
     "text": [
      "Val Loss: 0.6369\t\tVal Accuracy: 0.7933\n",
      "\n",
      "Epoch: 7/20\n"
     ]
    },
    {
     "name": "stderr",
     "output_type": "stream",
     "text": [
      "Train: 100%|██████████| 263/263 [02:06<00:00,  2.08it/s, loss=0.567]\n"
     ]
    },
    {
     "name": "stdout",
     "output_type": "stream",
     "text": [
      "Train Loss: 0.5846\t\tTrain Accuracy: 0.9469\n"
     ]
    },
    {
     "name": "stderr",
     "output_type": "stream",
     "text": [
      "Test: 100%|██████████| 29/29 [00:03<00:00,  9.01it/s, loss=0.742]\n"
     ]
    },
    {
     "name": "stdout",
     "output_type": "stream",
     "text": [
      "Val Loss: 0.6317\t\tVal Accuracy: 0.8133\n",
      "\n",
      "Epoch: 8/20\n"
     ]
    },
    {
     "name": "stderr",
     "output_type": "stream",
     "text": [
      "Train: 100%|██████████| 263/263 [02:06<00:00,  2.08it/s, loss=0.567]\n"
     ]
    },
    {
     "name": "stdout",
     "output_type": "stream",
     "text": [
      "Train Loss: 0.5844\t\tTrain Accuracy: 0.9474\n"
     ]
    },
    {
     "name": "stderr",
     "output_type": "stream",
     "text": [
      "Test: 100%|██████████| 29/29 [00:03<00:00,  8.54it/s, loss=0.733]\n"
     ]
    },
    {
     "name": "stdout",
     "output_type": "stream",
     "text": [
      "Val Loss: 0.6358\t\tVal Accuracy: 0.8044\n",
      "\n",
      "Epoch: 9/20\n"
     ]
    },
    {
     "name": "stderr",
     "output_type": "stream",
     "text": [
      "Train: 100%|██████████| 263/263 [02:05<00:00,  2.10it/s, loss=0.567]\n"
     ]
    },
    {
     "name": "stdout",
     "output_type": "stream",
     "text": [
      "Train Loss: 0.5845\t\tTrain Accuracy: 0.9457\n"
     ]
    },
    {
     "name": "stderr",
     "output_type": "stream",
     "text": [
      "Test: 100%|██████████| 29/29 [00:03<00:00,  8.63it/s, loss=0.733]\n"
     ]
    },
    {
     "name": "stdout",
     "output_type": "stream",
     "text": [
      "Val Loss: 0.6340\t\tVal Accuracy: 0.8044\n",
      "\n",
      "Epoch: 10/20\n"
     ]
    },
    {
     "name": "stderr",
     "output_type": "stream",
     "text": [
      "Train: 100%|██████████| 263/263 [02:07<00:00,  2.06it/s, loss=0.567]\n"
     ]
    },
    {
     "name": "stdout",
     "output_type": "stream",
     "text": [
      "Train Loss: 0.5803\t\tTrain Accuracy: 0.9588\n"
     ]
    },
    {
     "name": "stderr",
     "output_type": "stream",
     "text": [
      "Test: 100%|██████████| 29/29 [00:03<00:00,  8.57it/s, loss=0.733]\n"
     ]
    },
    {
     "name": "stdout",
     "output_type": "stream",
     "text": [
      "Val Loss: 0.6339\t\tVal Accuracy: 0.8111\n",
      "\n",
      "Epoch: 11/20\n"
     ]
    },
    {
     "name": "stderr",
     "output_type": "stream",
     "text": [
      "Train: 100%|██████████| 263/263 [02:06<00:00,  2.08it/s, loss=0.567]\n"
     ]
    },
    {
     "name": "stdout",
     "output_type": "stream",
     "text": [
      "Train Loss: 0.5784\t\tTrain Accuracy: 0.9650\n"
     ]
    },
    {
     "name": "stderr",
     "output_type": "stream",
     "text": [
      "Test: 100%|██████████| 29/29 [00:03<00:00,  8.68it/s, loss=0.741]\n"
     ]
    },
    {
     "name": "stdout",
     "output_type": "stream",
     "text": [
      "Val Loss: 0.6316\t\tVal Accuracy: 0.8111\n",
      "\n",
      "Epoch: 12/20\n"
     ]
    },
    {
     "name": "stderr",
     "output_type": "stream",
     "text": [
      "Train: 100%|██████████| 263/263 [02:06<00:00,  2.08it/s, loss=0.608]\n"
     ]
    },
    {
     "name": "stdout",
     "output_type": "stream",
     "text": [
      "Train Loss: 0.5807\t\tTrain Accuracy: 0.9583\n"
     ]
    },
    {
     "name": "stderr",
     "output_type": "stream",
     "text": [
      "Test: 100%|██████████| 29/29 [00:03<00:00,  8.63it/s, loss=0.9]  \n"
     ]
    },
    {
     "name": "stdout",
     "output_type": "stream",
     "text": [
      "Val Loss: 0.6334\t\tVal Accuracy: 0.8200\n",
      "\n",
      "Epoch: 13/20\n"
     ]
    },
    {
     "name": "stderr",
     "output_type": "stream",
     "text": [
      "Train: 100%|██████████| 263/263 [02:06<00:00,  2.09it/s, loss=0.567]\n"
     ]
    },
    {
     "name": "stdout",
     "output_type": "stream",
     "text": [
      "Train Loss: 0.5836\t\tTrain Accuracy: 0.9493\n"
     ]
    },
    {
     "name": "stderr",
     "output_type": "stream",
     "text": [
      "Test: 100%|██████████| 29/29 [00:03<00:00,  9.09it/s, loss=0.733]\n"
     ]
    },
    {
     "name": "stdout",
     "output_type": "stream",
     "text": [
      "Val Loss: 0.6430\t\tVal Accuracy: 0.7800\n",
      "\n",
      "Epoch: 14/20\n"
     ]
    },
    {
     "name": "stderr",
     "output_type": "stream",
     "text": [
      "Train: 100%|██████████| 263/263 [02:06<00:00,  2.08it/s, loss=0.606]\n"
     ]
    },
    {
     "name": "stdout",
     "output_type": "stream",
     "text": [
      "Train Loss: 0.5801\t\tTrain Accuracy: 0.9593\n"
     ]
    },
    {
     "name": "stderr",
     "output_type": "stream",
     "text": [
      "Test: 100%|██████████| 29/29 [00:03<00:00,  8.65it/s, loss=0.733]\n"
     ]
    },
    {
     "name": "stdout",
     "output_type": "stream",
     "text": [
      "Val Loss: 0.6349\t\tVal Accuracy: 0.8000\n",
      "\n",
      "Epoch: 15/20\n"
     ]
    },
    {
     "name": "stderr",
     "output_type": "stream",
     "text": [
      "Train: 100%|██████████| 263/263 [02:06<00:00,  2.08it/s, loss=0.567]\n"
     ]
    },
    {
     "name": "stdout",
     "output_type": "stream",
     "text": [
      "Train Loss: 0.5798\t\tTrain Accuracy: 0.9602\n"
     ]
    },
    {
     "name": "stderr",
     "output_type": "stream",
     "text": [
      "Test: 100%|██████████| 29/29 [00:03<00:00,  8.69it/s, loss=0.9]  \n"
     ]
    },
    {
     "name": "stdout",
     "output_type": "stream",
     "text": [
      "Val Loss: 0.6373\t\tVal Accuracy: 0.8089\n",
      "\n",
      "Epoch: 16/20\n"
     ]
    },
    {
     "name": "stderr",
     "output_type": "stream",
     "text": [
      "Train: 100%|██████████| 263/263 [02:06<00:00,  2.08it/s, loss=0.608]\n"
     ]
    },
    {
     "name": "stdout",
     "output_type": "stream",
     "text": [
      "Train Loss: 0.5793\t\tTrain Accuracy: 0.9617\n"
     ]
    },
    {
     "name": "stderr",
     "output_type": "stream",
     "text": [
      "Test: 100%|██████████| 29/29 [00:03<00:00,  9.18it/s, loss=0.733]"
     ]
    },
    {
     "name": "stdout",
     "output_type": "stream",
     "text": [
      "Val Loss: 0.6344\t\tVal Accuracy: 0.8044\n",
      "Early stopping: Validation loss hasn't improved for 5 consecutive epochs.\n"
     ]
    },
    {
     "name": "stderr",
     "output_type": "stream",
     "text": [
      "\n"
     ]
    }
   ],
   "source": [
    "model.to(device)\n",
    "\n",
    "train_losses = []\n",
    "val_losses = []\n",
    "train_accuracies = []\n",
    "val_accuracies = []\n",
    "\n",
    "consecutive_lower_count = 0\n",
    "best_val_loss = float('inf')  # Initialize with a high value\n",
    "best_model_weights = None\n",
    "best_epoch = None\n",
    "\n",
    "# Training loop\n",
    "for epoch in range(num_epochs):\n",
    "    print(f\"\\nEpoch: {epoch+1}/{num_epochs}\")\n",
    "\n",
    "    train_loss, train_accuracy = train_model(\n",
    "        model, train_loader, optimizer, criterion, device\n",
    "    )\n",
    "    train_losses.append(train_loss)\n",
    "    train_accuracies.append(train_accuracy)\n",
    "\n",
    "    print(f\"Train Loss: {train_loss:.4f}\\t\\tTrain Accuracy: {train_accuracy:.4f}\")\n",
    "\n",
    "    val_loss, val_accuracy = test(model, val_loader, criterion, device)\n",
    "\n",
    "    val_losses.append(val_loss)\n",
    "    val_accuracies.append(val_accuracy)\n",
    "\n",
    "    print(f\"Val Loss: {val_loss:.4f}\\t\\tVal Accuracy: {val_accuracy:.4f}\")\n",
    "    \n",
    "    if val_loss <= best_val_loss:\n",
    "        best_val_loss = val_loss\n",
    "        consecutive_lower_count = 0\n",
    "        # Save the current best model weights\n",
    "        best_model_weights = model.state_dict()\n",
    "        best_epoch = epoch\n",
    "    else:\n",
    "        consecutive_lower_count += 1\n",
    "\n",
    "    if consecutive_lower_count >= 5:\n",
    "        print(\"Early stopping: Validation loss hasn't improved for 5 consecutive epochs.\")\n",
    "        break\n",
    "    \n",
    "# Load the best model weights back into the model\n",
    "if best_model_weights is not None:\n",
    "    model.load_state_dict(best_model_weights)"
   ]
  },
  {
   "cell_type": "code",
   "execution_count": 24,
   "metadata": {},
   "outputs": [
    {
     "data": {
      "image/png": "[encoded data removed]",
      "text/plain": [
       "<Figure size 1200x500 with 2 Axes>"
      ]
     },
     "metadata": {},
     "output_type": "display_data"
    }
   ],
   "source": [
    "def plot_training_history(train_losses, val_losses, train_accuracies, val_accuracies):\n",
    "    plt.figure(figsize=(12, 5))\n",
    "\n",
    "    plt.subplot(1, 2, 1)\n",
    "    sns.lineplot(x=range(1, len(train_losses)+1), y=train_losses, label='Train Loss')\n",
    "    sns.lineplot(x=range(1, len(val_losses)+1), y=val_losses, label='Validation Loss')\n",
    "    plt.xlabel('Epochs')\n",
    "    plt.ylabel('Loss')\n",
    "    plt.legend()\n",
    "    plt.title('Training and Validation Losses')\n",
    "\n",
    "    plt.subplot(1, 2, 2)\n",
    "    sns.lineplot(x=range(1, len(train_accuracies)+1), y=train_accuracies, label='Train Accuracy')\n",
    "    sns.lineplot(x=range(1, len(val_accuracies)+1), y=val_accuracies, label='Validation Accuracy')\n",
    "    plt.xlabel('Epochs')\n",
    "    plt.ylabel('Accuracy')\n",
    "    plt.legend()\n",
    "    plt.title('Training and Validation Accuracies')\n",
    "\n",
    "    plt.tight_layout()\n",
    "    plt.show()\n",
    "    \n",
    "plot_training_history(train_losses, val_losses, train_accuracies, val_accuracies)"
   ]
  },
  {
   "cell_type": "code",
   "execution_count": 29,
   "metadata": {},
   "outputs": [
    {
     "name": "stderr",
     "output_type": "stream",
     "text": [
      "Test: 100%|██████████| 29/29 [00:03<00:00,  7.94it/s, loss=0.567]\n"
     ]
    },
    {
     "name": "stdout",
     "output_type": "stream",
     "text": [
      "Model saved\n",
      "test_loss = 0.6260161379287983, test_accuracy = 0.8177777777777778\n"
     ]
    }
   ],
   "source": [
    "test_loss, test_accuracy = test(model, test_loader, criterion, device)\n",
    "\n",
    "if test_accuracy > 0.80:\n",
    "    date_time = datetime.datetime.now().strftime(\"%Y-%m-%d_%H%M\")\n",
    "    file_name = f\".\\..\\data\\model\\model_checkpoint_{date_time}_loss{test_loss:.3f}.pth\"\n",
    "    torch.save({\n",
    "        'epoch' : best_epoch,\n",
    "        'model_state_dict' : model.state_dict(),\n",
    "        'optimizer_state_dict' : optimizer.state_dict(),\n",
    "        'loss' : test_loss,\n",
    "        }, file_name)\n",
    "    print('Model saved')\n",
    "    print(f\"{test_loss = }, {test_accuracy = }\")\n",
    "else:\n",
    "    print(f'Bad Model {test_loss = }, {test_accuracy = }')"
   ]
  },
  {
   "cell_type": "code",
   "execution_count": 30,
   "metadata": {},
   "outputs": [],
   "source": [
    "# Finding Accuracy\n",
    "def get_predictions(model, data_loader):\n",
    "    model = model.eval()\n",
    "    predictions = []\n",
    "    real_values = []\n",
    "    with torch.no_grad():\n",
    "        for batch in data_loader:\n",
    "            input_ids = batch['input_ids'].to(device)\n",
    "            attention_mask = batch['attention_mask'].to(device)\n",
    "            labels = batch['labels'].to(device)\n",
    "\n",
    "            outputs = model(input_ids, attention_mask)\n",
    "            outputs = torch.sigmoid(outputs)\n",
    "            predictions.append(outputs)\n",
    "            real_values.append(labels)\n",
    "            \n",
    "    y_pred = torch.cat(predictions).cpu()\n",
    "    y_test = torch.cat(real_values).cpu()\n",
    "    \n",
    "    y_pred = torch.argmax(y_pred, axis=1).numpy()\n",
    "    y_test = torch.argmax(y_test, axis=1).numpy()\n",
    "    \n",
    "    return y_pred, y_test\n",
    "\n",
    "y_pred, y_test = get_predictions(model, test_loader)"
   ]
  },
  {
   "cell_type": "code",
   "execution_count": 31,
   "metadata": {},
   "outputs": [
    {
     "name": "stdout",
     "output_type": "stream",
     "text": [
      "Classification Report for BERT :\n",
      "               precision    recall  f1-score   support\n",
      "\n",
      "    negative       0.75      0.84      0.79       150\n",
      "     neutral       0.85      0.81      0.83       150\n",
      "    positive       0.86      0.81      0.83       150\n",
      "\n",
      "    accuracy                           0.82       450\n",
      "   macro avg       0.82      0.82      0.82       450\n",
      "weighted avg       0.82      0.82      0.82       450\n",
      "\n"
     ]
    },
    {
     "data": {
      "image/png": "[encoded data removed]",
      "text/plain": [
       "<Figure size 640x480 with 2 Axes>"
      ]
     },
     "metadata": {},
     "output_type": "display_data"
    }
   ],
   "source": [
    "from sklearn.metrics import ConfusionMatrixDisplay\n",
    "from sklearn.metrics import classification_report\n",
    "\n",
    "\n",
    "conf_mat = confusion_matrix(y_test, y_pred)\n",
    "print('Classification Report for BERT :\\n', classification_report(y_test, y_pred, target_names=one_hot.categories_[0].tolist()))\n",
    "ConfusionMatrixDisplay(conf_mat, display_labels=one_hot.categories_[0].tolist()).plot()\n",
    "plt.title('Confusion Matrix')\n",
    "plt.grid(False)"
   ]
  },
  {
   "cell_type": "markdown",
   "metadata": {},
   "source": [
    "Reff:\n",
    "\n",
    "https://www.kaggle.com/code/harigovindasamy/sentiment-analysis-bert-79-accuracy \n",
    "\n",
    "https://www.kaggle.com/code/datafan07/disaster-tweets-nlp-eda-bert-with-transformers"
   ]
  }
 ],
 "metadata": {
  "kernelspec": {
   "display_name": ".venv",
   "language": "python",
   "name": "python3"
  },
  "language_info": {
   "codemirror_mode": {
    "name": "ipython",
    "version": 3
   },
   "file_extension": ".py",
   "mimetype": "text/x-python",
   "name": "python",
   "nbconvert_exporter": "python",
   "pygments_lexer": "ipython3",
   "version": "3.10.9"
  }
 },
 "nbformat": 4,
 "nbformat_minor": 2
}
